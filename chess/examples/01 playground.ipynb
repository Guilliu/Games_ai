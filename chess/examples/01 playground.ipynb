{
 "cells": [
  {
   "cell_type": "markdown",
   "metadata": {},
   "source": [
    "<span style='color:blue'>Importamos las clases y funciones"
   ]
  },
  {
   "cell_type": "code",
   "execution_count": 1,
   "metadata": {},
   "outputs": [],
   "source": [
    "from modules3 import *"
   ]
  },
  {
   "cell_type": "markdown",
   "metadata": {},
   "source": [
    "<span style='color:blue'>Probamos a inicializar un juego"
   ]
  },
  {
   "cell_type": "code",
   "execution_count": 2,
   "metadata": {},
   "outputs": [],
   "source": [
    "obs = game_obs()"
   ]
  },
  {
   "cell_type": "markdown",
   "metadata": {},
   "source": [
    "<span style='color:blue'>Por defecto incorpora las 32 piezas habituales"
   ]
  },
  {
   "cell_type": "code",
   "execution_count": 3,
   "metadata": {
    "scrolled": true
   },
   "outputs": [
    {
     "name": "stdout",
     "output_type": "stream",
     "text": [
      "Total de piezas = 32 ---> ['Rb', 'Rb', 'Bb', 'Bb', 'Nb', 'Nb', 'Qb', 'Kb', 'Pb', 'Pb', 'Pb', 'Pb', 'Pb', 'Pb', 'Pb', 'Pb', 'Rr', 'Rr', 'Br', 'Br', 'Nr', 'Nr', 'Qr', 'Kr', 'Pr', 'Pr', 'Pr', 'Pr', 'Pr', 'Pr', 'Pr', 'Pr']\n"
     ]
    }
   ],
   "source": [
    "print('Total de piezas = {} --->'.format(len(obs.pieces)), [pieza.id1 for pieza in obs.pieces.values()])"
   ]
  },
  {
   "cell_type": "markdown",
   "metadata": {},
   "source": [
    "<span style='color:blue'>El tablero (originalmente vacío) se representa con un pd.DataFrame"
   ]
  },
  {
   "cell_type": "code",
   "execution_count": 4,
   "metadata": {
    "scrolled": true
   },
   "outputs": [
    {
     "data": {
      "text/html": [
       "<div>\n",
       "<style scoped>\n",
       "    .dataframe tbody tr th:only-of-type {\n",
       "        vertical-align: middle;\n",
       "    }\n",
       "\n",
       "    .dataframe tbody tr th {\n",
       "        vertical-align: top;\n",
       "    }\n",
       "\n",
       "    .dataframe thead th {\n",
       "        text-align: right;\n",
       "    }\n",
       "</style>\n",
       "<table border=\"1\" class=\"dataframe\">\n",
       "  <thead>\n",
       "    <tr style=\"text-align: right;\">\n",
       "      <th></th>\n",
       "      <th>0</th>\n",
       "      <th>1</th>\n",
       "      <th>2</th>\n",
       "      <th>3</th>\n",
       "      <th>4</th>\n",
       "      <th>5</th>\n",
       "      <th>6</th>\n",
       "      <th>7</th>\n",
       "    </tr>\n",
       "  </thead>\n",
       "  <tbody>\n",
       "    <tr>\n",
       "      <th>0</th>\n",
       "      <td></td>\n",
       "      <td></td>\n",
       "      <td></td>\n",
       "      <td></td>\n",
       "      <td></td>\n",
       "      <td></td>\n",
       "      <td></td>\n",
       "      <td></td>\n",
       "    </tr>\n",
       "    <tr>\n",
       "      <th>1</th>\n",
       "      <td></td>\n",
       "      <td></td>\n",
       "      <td></td>\n",
       "      <td></td>\n",
       "      <td></td>\n",
       "      <td></td>\n",
       "      <td></td>\n",
       "      <td></td>\n",
       "    </tr>\n",
       "    <tr>\n",
       "      <th>2</th>\n",
       "      <td></td>\n",
       "      <td></td>\n",
       "      <td></td>\n",
       "      <td></td>\n",
       "      <td></td>\n",
       "      <td></td>\n",
       "      <td></td>\n",
       "      <td></td>\n",
       "    </tr>\n",
       "    <tr>\n",
       "      <th>3</th>\n",
       "      <td></td>\n",
       "      <td></td>\n",
       "      <td></td>\n",
       "      <td></td>\n",
       "      <td></td>\n",
       "      <td></td>\n",
       "      <td></td>\n",
       "      <td></td>\n",
       "    </tr>\n",
       "    <tr>\n",
       "      <th>4</th>\n",
       "      <td></td>\n",
       "      <td></td>\n",
       "      <td></td>\n",
       "      <td></td>\n",
       "      <td></td>\n",
       "      <td></td>\n",
       "      <td></td>\n",
       "      <td></td>\n",
       "    </tr>\n",
       "    <tr>\n",
       "      <th>5</th>\n",
       "      <td></td>\n",
       "      <td></td>\n",
       "      <td></td>\n",
       "      <td></td>\n",
       "      <td></td>\n",
       "      <td></td>\n",
       "      <td></td>\n",
       "      <td></td>\n",
       "    </tr>\n",
       "    <tr>\n",
       "      <th>6</th>\n",
       "      <td></td>\n",
       "      <td></td>\n",
       "      <td></td>\n",
       "      <td></td>\n",
       "      <td></td>\n",
       "      <td></td>\n",
       "      <td></td>\n",
       "      <td></td>\n",
       "    </tr>\n",
       "    <tr>\n",
       "      <th>7</th>\n",
       "      <td></td>\n",
       "      <td></td>\n",
       "      <td></td>\n",
       "      <td></td>\n",
       "      <td></td>\n",
       "      <td></td>\n",
       "      <td></td>\n",
       "      <td></td>\n",
       "    </tr>\n",
       "  </tbody>\n",
       "</table>\n",
       "</div>"
      ],
      "text/plain": [
       "  0 1 2 3 4 5 6 7\n",
       "0                \n",
       "1                \n",
       "2                \n",
       "3                \n",
       "4                \n",
       "5                \n",
       "6                \n",
       "7                "
      ]
     },
     "execution_count": 4,
     "metadata": {},
     "output_type": "execute_result"
    }
   ],
   "source": [
    "obs.board"
   ]
  },
  {
   "cell_type": "markdown",
   "metadata": {},
   "source": [
    "<span style='color:blue'>El método `display_board()` nos muestra el tablero de una forma mucho + visual"
   ]
  },
  {
   "cell_type": "code",
   "execution_count": 5,
   "metadata": {
    "scrolled": true
   },
   "outputs": [
    {
     "data": {
      "text/html": [
       "<style type=\"text/css\">\n",
       "#T_a2d1d * {\n",
       "  background-color: beige;\n",
       "  border-color: black;\n",
       "  border-width: 1px;\n",
       "  border-style: solid;\n",
       "  width: 30px;\n",
       "  text-align: center;\n",
       "}\n",
       "#T_a2d1d th {\n",
       "  background-color: #ffe3a9;\n",
       "}\n",
       "#T_a2d1d_row0_col0, #T_a2d1d_row0_col1, #T_a2d1d_row0_col2, #T_a2d1d_row0_col3, #T_a2d1d_row0_col4, #T_a2d1d_row0_col5, #T_a2d1d_row0_col6, #T_a2d1d_row0_col7, #T_a2d1d_row1_col0, #T_a2d1d_row1_col1, #T_a2d1d_row1_col2, #T_a2d1d_row1_col3, #T_a2d1d_row1_col4, #T_a2d1d_row1_col5, #T_a2d1d_row1_col6, #T_a2d1d_row1_col7, #T_a2d1d_row2_col0, #T_a2d1d_row2_col1, #T_a2d1d_row2_col2, #T_a2d1d_row2_col3, #T_a2d1d_row2_col4, #T_a2d1d_row2_col5, #T_a2d1d_row2_col6, #T_a2d1d_row2_col7, #T_a2d1d_row3_col0, #T_a2d1d_row3_col1, #T_a2d1d_row3_col2, #T_a2d1d_row3_col3, #T_a2d1d_row3_col4, #T_a2d1d_row3_col5, #T_a2d1d_row3_col6, #T_a2d1d_row3_col7, #T_a2d1d_row4_col0, #T_a2d1d_row4_col1, #T_a2d1d_row4_col2, #T_a2d1d_row4_col3, #T_a2d1d_row4_col4, #T_a2d1d_row4_col5, #T_a2d1d_row4_col6, #T_a2d1d_row4_col7, #T_a2d1d_row5_col0, #T_a2d1d_row5_col1, #T_a2d1d_row5_col2, #T_a2d1d_row5_col3, #T_a2d1d_row5_col4, #T_a2d1d_row5_col5, #T_a2d1d_row5_col6, #T_a2d1d_row5_col7, #T_a2d1d_row6_col0, #T_a2d1d_row6_col1, #T_a2d1d_row6_col2, #T_a2d1d_row6_col3, #T_a2d1d_row6_col4, #T_a2d1d_row6_col5, #T_a2d1d_row6_col6, #T_a2d1d_row6_col7, #T_a2d1d_row7_col0, #T_a2d1d_row7_col1, #T_a2d1d_row7_col2, #T_a2d1d_row7_col3, #T_a2d1d_row7_col4, #T_a2d1d_row7_col5, #T_a2d1d_row7_col6, #T_a2d1d_row7_col7 {\n",
       "  color: beige;\n",
       "  background-color: beige;\n",
       "}\n",
       "</style>\n",
       "<table id=\"T_a2d1d\">\n",
       "  <thead>\n",
       "    <tr>\n",
       "      <th class=\"blank level0\" >&nbsp;</th>\n",
       "      <th id=\"T_a2d1d_level0_col0\" class=\"col_heading level0 col0\" >0</th>\n",
       "      <th id=\"T_a2d1d_level0_col1\" class=\"col_heading level0 col1\" >1</th>\n",
       "      <th id=\"T_a2d1d_level0_col2\" class=\"col_heading level0 col2\" >2</th>\n",
       "      <th id=\"T_a2d1d_level0_col3\" class=\"col_heading level0 col3\" >3</th>\n",
       "      <th id=\"T_a2d1d_level0_col4\" class=\"col_heading level0 col4\" >4</th>\n",
       "      <th id=\"T_a2d1d_level0_col5\" class=\"col_heading level0 col5\" >5</th>\n",
       "      <th id=\"T_a2d1d_level0_col6\" class=\"col_heading level0 col6\" >6</th>\n",
       "      <th id=\"T_a2d1d_level0_col7\" class=\"col_heading level0 col7\" >7</th>\n",
       "    </tr>\n",
       "  </thead>\n",
       "  <tbody>\n",
       "    <tr>\n",
       "      <th id=\"T_a2d1d_level0_row0\" class=\"row_heading level0 row0\" >0</th>\n",
       "      <td id=\"T_a2d1d_row0_col0\" class=\"data row0 col0\" ></td>\n",
       "      <td id=\"T_a2d1d_row0_col1\" class=\"data row0 col1\" ></td>\n",
       "      <td id=\"T_a2d1d_row0_col2\" class=\"data row0 col2\" ></td>\n",
       "      <td id=\"T_a2d1d_row0_col3\" class=\"data row0 col3\" ></td>\n",
       "      <td id=\"T_a2d1d_row0_col4\" class=\"data row0 col4\" ></td>\n",
       "      <td id=\"T_a2d1d_row0_col5\" class=\"data row0 col5\" ></td>\n",
       "      <td id=\"T_a2d1d_row0_col6\" class=\"data row0 col6\" ></td>\n",
       "      <td id=\"T_a2d1d_row0_col7\" class=\"data row0 col7\" ></td>\n",
       "    </tr>\n",
       "    <tr>\n",
       "      <th id=\"T_a2d1d_level0_row1\" class=\"row_heading level0 row1\" >1</th>\n",
       "      <td id=\"T_a2d1d_row1_col0\" class=\"data row1 col0\" ></td>\n",
       "      <td id=\"T_a2d1d_row1_col1\" class=\"data row1 col1\" ></td>\n",
       "      <td id=\"T_a2d1d_row1_col2\" class=\"data row1 col2\" ></td>\n",
       "      <td id=\"T_a2d1d_row1_col3\" class=\"data row1 col3\" ></td>\n",
       "      <td id=\"T_a2d1d_row1_col4\" class=\"data row1 col4\" ></td>\n",
       "      <td id=\"T_a2d1d_row1_col5\" class=\"data row1 col5\" ></td>\n",
       "      <td id=\"T_a2d1d_row1_col6\" class=\"data row1 col6\" ></td>\n",
       "      <td id=\"T_a2d1d_row1_col7\" class=\"data row1 col7\" ></td>\n",
       "    </tr>\n",
       "    <tr>\n",
       "      <th id=\"T_a2d1d_level0_row2\" class=\"row_heading level0 row2\" >2</th>\n",
       "      <td id=\"T_a2d1d_row2_col0\" class=\"data row2 col0\" ></td>\n",
       "      <td id=\"T_a2d1d_row2_col1\" class=\"data row2 col1\" ></td>\n",
       "      <td id=\"T_a2d1d_row2_col2\" class=\"data row2 col2\" ></td>\n",
       "      <td id=\"T_a2d1d_row2_col3\" class=\"data row2 col3\" ></td>\n",
       "      <td id=\"T_a2d1d_row2_col4\" class=\"data row2 col4\" ></td>\n",
       "      <td id=\"T_a2d1d_row2_col5\" class=\"data row2 col5\" ></td>\n",
       "      <td id=\"T_a2d1d_row2_col6\" class=\"data row2 col6\" ></td>\n",
       "      <td id=\"T_a2d1d_row2_col7\" class=\"data row2 col7\" ></td>\n",
       "    </tr>\n",
       "    <tr>\n",
       "      <th id=\"T_a2d1d_level0_row3\" class=\"row_heading level0 row3\" >3</th>\n",
       "      <td id=\"T_a2d1d_row3_col0\" class=\"data row3 col0\" ></td>\n",
       "      <td id=\"T_a2d1d_row3_col1\" class=\"data row3 col1\" ></td>\n",
       "      <td id=\"T_a2d1d_row3_col2\" class=\"data row3 col2\" ></td>\n",
       "      <td id=\"T_a2d1d_row3_col3\" class=\"data row3 col3\" ></td>\n",
       "      <td id=\"T_a2d1d_row3_col4\" class=\"data row3 col4\" ></td>\n",
       "      <td id=\"T_a2d1d_row3_col5\" class=\"data row3 col5\" ></td>\n",
       "      <td id=\"T_a2d1d_row3_col6\" class=\"data row3 col6\" ></td>\n",
       "      <td id=\"T_a2d1d_row3_col7\" class=\"data row3 col7\" ></td>\n",
       "    </tr>\n",
       "    <tr>\n",
       "      <th id=\"T_a2d1d_level0_row4\" class=\"row_heading level0 row4\" >4</th>\n",
       "      <td id=\"T_a2d1d_row4_col0\" class=\"data row4 col0\" ></td>\n",
       "      <td id=\"T_a2d1d_row4_col1\" class=\"data row4 col1\" ></td>\n",
       "      <td id=\"T_a2d1d_row4_col2\" class=\"data row4 col2\" ></td>\n",
       "      <td id=\"T_a2d1d_row4_col3\" class=\"data row4 col3\" ></td>\n",
       "      <td id=\"T_a2d1d_row4_col4\" class=\"data row4 col4\" ></td>\n",
       "      <td id=\"T_a2d1d_row4_col5\" class=\"data row4 col5\" ></td>\n",
       "      <td id=\"T_a2d1d_row4_col6\" class=\"data row4 col6\" ></td>\n",
       "      <td id=\"T_a2d1d_row4_col7\" class=\"data row4 col7\" ></td>\n",
       "    </tr>\n",
       "    <tr>\n",
       "      <th id=\"T_a2d1d_level0_row5\" class=\"row_heading level0 row5\" >5</th>\n",
       "      <td id=\"T_a2d1d_row5_col0\" class=\"data row5 col0\" ></td>\n",
       "      <td id=\"T_a2d1d_row5_col1\" class=\"data row5 col1\" ></td>\n",
       "      <td id=\"T_a2d1d_row5_col2\" class=\"data row5 col2\" ></td>\n",
       "      <td id=\"T_a2d1d_row5_col3\" class=\"data row5 col3\" ></td>\n",
       "      <td id=\"T_a2d1d_row5_col4\" class=\"data row5 col4\" ></td>\n",
       "      <td id=\"T_a2d1d_row5_col5\" class=\"data row5 col5\" ></td>\n",
       "      <td id=\"T_a2d1d_row5_col6\" class=\"data row5 col6\" ></td>\n",
       "      <td id=\"T_a2d1d_row5_col7\" class=\"data row5 col7\" ></td>\n",
       "    </tr>\n",
       "    <tr>\n",
       "      <th id=\"T_a2d1d_level0_row6\" class=\"row_heading level0 row6\" >6</th>\n",
       "      <td id=\"T_a2d1d_row6_col0\" class=\"data row6 col0\" ></td>\n",
       "      <td id=\"T_a2d1d_row6_col1\" class=\"data row6 col1\" ></td>\n",
       "      <td id=\"T_a2d1d_row6_col2\" class=\"data row6 col2\" ></td>\n",
       "      <td id=\"T_a2d1d_row6_col3\" class=\"data row6 col3\" ></td>\n",
       "      <td id=\"T_a2d1d_row6_col4\" class=\"data row6 col4\" ></td>\n",
       "      <td id=\"T_a2d1d_row6_col5\" class=\"data row6 col5\" ></td>\n",
       "      <td id=\"T_a2d1d_row6_col6\" class=\"data row6 col6\" ></td>\n",
       "      <td id=\"T_a2d1d_row6_col7\" class=\"data row6 col7\" ></td>\n",
       "    </tr>\n",
       "    <tr>\n",
       "      <th id=\"T_a2d1d_level0_row7\" class=\"row_heading level0 row7\" >7</th>\n",
       "      <td id=\"T_a2d1d_row7_col0\" class=\"data row7 col0\" ></td>\n",
       "      <td id=\"T_a2d1d_row7_col1\" class=\"data row7 col1\" ></td>\n",
       "      <td id=\"T_a2d1d_row7_col2\" class=\"data row7 col2\" ></td>\n",
       "      <td id=\"T_a2d1d_row7_col3\" class=\"data row7 col3\" ></td>\n",
       "      <td id=\"T_a2d1d_row7_col4\" class=\"data row7 col4\" ></td>\n",
       "      <td id=\"T_a2d1d_row7_col5\" class=\"data row7 col5\" ></td>\n",
       "      <td id=\"T_a2d1d_row7_col6\" class=\"data row7 col6\" ></td>\n",
       "      <td id=\"T_a2d1d_row7_col7\" class=\"data row7 col7\" ></td>\n",
       "    </tr>\n",
       "  </tbody>\n",
       "</table>\n"
      ],
      "text/plain": [
       "<pandas.io.formats.style.Styler at 0x1fb3799f370>"
      ]
     },
     "metadata": {},
     "output_type": "display_data"
    }
   ],
   "source": [
    "obs.display_board()"
   ]
  },
  {
   "cell_type": "markdown",
   "metadata": {},
   "source": [
    "<span style='color:blue'>Con el método `place_pieces()` podemos colocar las piezas en el tablero"
   ]
  },
  {
   "cell_type": "code",
   "execution_count": 6,
   "metadata": {},
   "outputs": [],
   "source": [
    "obs.place_pieces()"
   ]
  },
  {
   "cell_type": "code",
   "execution_count": 7,
   "metadata": {},
   "outputs": [
    {
     "data": {
      "text/html": [
       "<style type=\"text/css\">\n",
       "#T_3753e * {\n",
       "  background-color: beige;\n",
       "  border-color: black;\n",
       "  border-width: 1px;\n",
       "  border-style: solid;\n",
       "  width: 30px;\n",
       "  text-align: center;\n",
       "}\n",
       "#T_3753e th {\n",
       "  background-color: #ffe3a9;\n",
       "}\n",
       "#T_3753e_row0_col0, #T_3753e_row0_col1, #T_3753e_row0_col2, #T_3753e_row0_col3, #T_3753e_row0_col4, #T_3753e_row0_col5, #T_3753e_row0_col6, #T_3753e_row0_col7, #T_3753e_row1_col0, #T_3753e_row1_col1, #T_3753e_row1_col2, #T_3753e_row1_col3, #T_3753e_row1_col4, #T_3753e_row1_col5, #T_3753e_row1_col6, #T_3753e_row1_col7 {\n",
       "  color: black;\n",
       "  background-color: #ffadad;\n",
       "}\n",
       "#T_3753e_row2_col0, #T_3753e_row2_col1, #T_3753e_row2_col2, #T_3753e_row2_col3, #T_3753e_row2_col4, #T_3753e_row2_col5, #T_3753e_row2_col6, #T_3753e_row2_col7, #T_3753e_row3_col0, #T_3753e_row3_col1, #T_3753e_row3_col2, #T_3753e_row3_col3, #T_3753e_row3_col4, #T_3753e_row3_col5, #T_3753e_row3_col6, #T_3753e_row3_col7, #T_3753e_row4_col0, #T_3753e_row4_col1, #T_3753e_row4_col2, #T_3753e_row4_col3, #T_3753e_row4_col4, #T_3753e_row4_col5, #T_3753e_row4_col6, #T_3753e_row4_col7, #T_3753e_row5_col0, #T_3753e_row5_col1, #T_3753e_row5_col2, #T_3753e_row5_col3, #T_3753e_row5_col4, #T_3753e_row5_col5, #T_3753e_row5_col6, #T_3753e_row5_col7 {\n",
       "  color: beige;\n",
       "  background-color: beige;\n",
       "}\n",
       "#T_3753e_row6_col0, #T_3753e_row6_col1, #T_3753e_row6_col2, #T_3753e_row6_col3, #T_3753e_row6_col4, #T_3753e_row6_col5, #T_3753e_row6_col6, #T_3753e_row6_col7, #T_3753e_row7_col0, #T_3753e_row7_col1, #T_3753e_row7_col2, #T_3753e_row7_col3, #T_3753e_row7_col4, #T_3753e_row7_col5, #T_3753e_row7_col6, #T_3753e_row7_col7 {\n",
       "  color: black;\n",
       "  background-color: #ade9ff;\n",
       "}\n",
       "</style>\n",
       "<table id=\"T_3753e\">\n",
       "  <thead>\n",
       "    <tr>\n",
       "      <th class=\"blank level0\" >&nbsp;</th>\n",
       "      <th id=\"T_3753e_level0_col0\" class=\"col_heading level0 col0\" >0</th>\n",
       "      <th id=\"T_3753e_level0_col1\" class=\"col_heading level0 col1\" >1</th>\n",
       "      <th id=\"T_3753e_level0_col2\" class=\"col_heading level0 col2\" >2</th>\n",
       "      <th id=\"T_3753e_level0_col3\" class=\"col_heading level0 col3\" >3</th>\n",
       "      <th id=\"T_3753e_level0_col4\" class=\"col_heading level0 col4\" >4</th>\n",
       "      <th id=\"T_3753e_level0_col5\" class=\"col_heading level0 col5\" >5</th>\n",
       "      <th id=\"T_3753e_level0_col6\" class=\"col_heading level0 col6\" >6</th>\n",
       "      <th id=\"T_3753e_level0_col7\" class=\"col_heading level0 col7\" >7</th>\n",
       "    </tr>\n",
       "  </thead>\n",
       "  <tbody>\n",
       "    <tr>\n",
       "      <th id=\"T_3753e_level0_row0\" class=\"row_heading level0 row0\" >0</th>\n",
       "      <td id=\"T_3753e_row0_col0\" class=\"data row0 col0\" >Rr</td>\n",
       "      <td id=\"T_3753e_row0_col1\" class=\"data row0 col1\" >Nr</td>\n",
       "      <td id=\"T_3753e_row0_col2\" class=\"data row0 col2\" >Br</td>\n",
       "      <td id=\"T_3753e_row0_col3\" class=\"data row0 col3\" >Qr</td>\n",
       "      <td id=\"T_3753e_row0_col4\" class=\"data row0 col4\" >Kr</td>\n",
       "      <td id=\"T_3753e_row0_col5\" class=\"data row0 col5\" >Br</td>\n",
       "      <td id=\"T_3753e_row0_col6\" class=\"data row0 col6\" >Nr</td>\n",
       "      <td id=\"T_3753e_row0_col7\" class=\"data row0 col7\" >Rr</td>\n",
       "    </tr>\n",
       "    <tr>\n",
       "      <th id=\"T_3753e_level0_row1\" class=\"row_heading level0 row1\" >1</th>\n",
       "      <td id=\"T_3753e_row1_col0\" class=\"data row1 col0\" >Pr</td>\n",
       "      <td id=\"T_3753e_row1_col1\" class=\"data row1 col1\" >Pr</td>\n",
       "      <td id=\"T_3753e_row1_col2\" class=\"data row1 col2\" >Pr</td>\n",
       "      <td id=\"T_3753e_row1_col3\" class=\"data row1 col3\" >Pr</td>\n",
       "      <td id=\"T_3753e_row1_col4\" class=\"data row1 col4\" >Pr</td>\n",
       "      <td id=\"T_3753e_row1_col5\" class=\"data row1 col5\" >Pr</td>\n",
       "      <td id=\"T_3753e_row1_col6\" class=\"data row1 col6\" >Pr</td>\n",
       "      <td id=\"T_3753e_row1_col7\" class=\"data row1 col7\" >Pr</td>\n",
       "    </tr>\n",
       "    <tr>\n",
       "      <th id=\"T_3753e_level0_row2\" class=\"row_heading level0 row2\" >2</th>\n",
       "      <td id=\"T_3753e_row2_col0\" class=\"data row2 col0\" ></td>\n",
       "      <td id=\"T_3753e_row2_col1\" class=\"data row2 col1\" ></td>\n",
       "      <td id=\"T_3753e_row2_col2\" class=\"data row2 col2\" ></td>\n",
       "      <td id=\"T_3753e_row2_col3\" class=\"data row2 col3\" ></td>\n",
       "      <td id=\"T_3753e_row2_col4\" class=\"data row2 col4\" ></td>\n",
       "      <td id=\"T_3753e_row2_col5\" class=\"data row2 col5\" ></td>\n",
       "      <td id=\"T_3753e_row2_col6\" class=\"data row2 col6\" ></td>\n",
       "      <td id=\"T_3753e_row2_col7\" class=\"data row2 col7\" ></td>\n",
       "    </tr>\n",
       "    <tr>\n",
       "      <th id=\"T_3753e_level0_row3\" class=\"row_heading level0 row3\" >3</th>\n",
       "      <td id=\"T_3753e_row3_col0\" class=\"data row3 col0\" ></td>\n",
       "      <td id=\"T_3753e_row3_col1\" class=\"data row3 col1\" ></td>\n",
       "      <td id=\"T_3753e_row3_col2\" class=\"data row3 col2\" ></td>\n",
       "      <td id=\"T_3753e_row3_col3\" class=\"data row3 col3\" ></td>\n",
       "      <td id=\"T_3753e_row3_col4\" class=\"data row3 col4\" ></td>\n",
       "      <td id=\"T_3753e_row3_col5\" class=\"data row3 col5\" ></td>\n",
       "      <td id=\"T_3753e_row3_col6\" class=\"data row3 col6\" ></td>\n",
       "      <td id=\"T_3753e_row3_col7\" class=\"data row3 col7\" ></td>\n",
       "    </tr>\n",
       "    <tr>\n",
       "      <th id=\"T_3753e_level0_row4\" class=\"row_heading level0 row4\" >4</th>\n",
       "      <td id=\"T_3753e_row4_col0\" class=\"data row4 col0\" ></td>\n",
       "      <td id=\"T_3753e_row4_col1\" class=\"data row4 col1\" ></td>\n",
       "      <td id=\"T_3753e_row4_col2\" class=\"data row4 col2\" ></td>\n",
       "      <td id=\"T_3753e_row4_col3\" class=\"data row4 col3\" ></td>\n",
       "      <td id=\"T_3753e_row4_col4\" class=\"data row4 col4\" ></td>\n",
       "      <td id=\"T_3753e_row4_col5\" class=\"data row4 col5\" ></td>\n",
       "      <td id=\"T_3753e_row4_col6\" class=\"data row4 col6\" ></td>\n",
       "      <td id=\"T_3753e_row4_col7\" class=\"data row4 col7\" ></td>\n",
       "    </tr>\n",
       "    <tr>\n",
       "      <th id=\"T_3753e_level0_row5\" class=\"row_heading level0 row5\" >5</th>\n",
       "      <td id=\"T_3753e_row5_col0\" class=\"data row5 col0\" ></td>\n",
       "      <td id=\"T_3753e_row5_col1\" class=\"data row5 col1\" ></td>\n",
       "      <td id=\"T_3753e_row5_col2\" class=\"data row5 col2\" ></td>\n",
       "      <td id=\"T_3753e_row5_col3\" class=\"data row5 col3\" ></td>\n",
       "      <td id=\"T_3753e_row5_col4\" class=\"data row5 col4\" ></td>\n",
       "      <td id=\"T_3753e_row5_col5\" class=\"data row5 col5\" ></td>\n",
       "      <td id=\"T_3753e_row5_col6\" class=\"data row5 col6\" ></td>\n",
       "      <td id=\"T_3753e_row5_col7\" class=\"data row5 col7\" ></td>\n",
       "    </tr>\n",
       "    <tr>\n",
       "      <th id=\"T_3753e_level0_row6\" class=\"row_heading level0 row6\" >6</th>\n",
       "      <td id=\"T_3753e_row6_col0\" class=\"data row6 col0\" >Pb</td>\n",
       "      <td id=\"T_3753e_row6_col1\" class=\"data row6 col1\" >Pb</td>\n",
       "      <td id=\"T_3753e_row6_col2\" class=\"data row6 col2\" >Pb</td>\n",
       "      <td id=\"T_3753e_row6_col3\" class=\"data row6 col3\" >Pb</td>\n",
       "      <td id=\"T_3753e_row6_col4\" class=\"data row6 col4\" >Pb</td>\n",
       "      <td id=\"T_3753e_row6_col5\" class=\"data row6 col5\" >Pb</td>\n",
       "      <td id=\"T_3753e_row6_col6\" class=\"data row6 col6\" >Pb</td>\n",
       "      <td id=\"T_3753e_row6_col7\" class=\"data row6 col7\" >Pb</td>\n",
       "    </tr>\n",
       "    <tr>\n",
       "      <th id=\"T_3753e_level0_row7\" class=\"row_heading level0 row7\" >7</th>\n",
       "      <td id=\"T_3753e_row7_col0\" class=\"data row7 col0\" >Rb</td>\n",
       "      <td id=\"T_3753e_row7_col1\" class=\"data row7 col1\" >Nb</td>\n",
       "      <td id=\"T_3753e_row7_col2\" class=\"data row7 col2\" >Bb</td>\n",
       "      <td id=\"T_3753e_row7_col3\" class=\"data row7 col3\" >Qb</td>\n",
       "      <td id=\"T_3753e_row7_col4\" class=\"data row7 col4\" >Kb</td>\n",
       "      <td id=\"T_3753e_row7_col5\" class=\"data row7 col5\" >Bb</td>\n",
       "      <td id=\"T_3753e_row7_col6\" class=\"data row7 col6\" >Nb</td>\n",
       "      <td id=\"T_3753e_row7_col7\" class=\"data row7 col7\" >Rb</td>\n",
       "    </tr>\n",
       "  </tbody>\n",
       "</table>\n"
      ],
      "text/plain": [
       "<pandas.io.formats.style.Styler at 0x1fb37afe400>"
      ]
     },
     "metadata": {},
     "output_type": "display_data"
    }
   ],
   "source": [
    "obs.display_board()"
   ]
  },
  {
   "cell_type": "markdown",
   "metadata": {},
   "source": [
    "<span style='color:blue'>De entrada, el turno inicial corresponde a las azules (lo que serían las blancas en el ajedrez de toda la vida)"
   ]
  },
  {
   "cell_type": "code",
   "execution_count": 8,
   "metadata": {},
   "outputs": [
    {
     "data": {
      "text/plain": [
       "'b'"
      ]
     },
     "execution_count": 8,
     "metadata": {},
     "output_type": "execute_result"
    }
   ],
   "source": [
    "obs.turn"
   ]
  },
  {
   "cell_type": "markdown",
   "metadata": {},
   "source": [
    "<span style='color:blue'>En cada observación el objeto juego cuenta con unos conjuntos dónde se tiene que casillas están ocupadas y cuales por cada color"
   ]
  },
  {
   "cell_type": "code",
   "execution_count": 9,
   "metadata": {},
   "outputs": [
    {
     "name": "stdout",
     "output_type": "stream",
     "text": [
      "True\n"
     ]
    }
   ],
   "source": [
    "print(obs.filled_squares == obs.filled_squares_b.union(obs.filled_squares_r))"
   ]
  },
  {
   "cell_type": "markdown",
   "metadata": {},
   "source": [
    "<span style='color:blue'>Probamos a seleccionar una pieza, por ejemplo el caballo azul situado en (7, 1). Esta es un objeto en sí mismo también"
   ]
  },
  {
   "cell_type": "code",
   "execution_count": 10,
   "metadata": {},
   "outputs": [],
   "source": [
    "rocinante = obs.pieces['Nb71']"
   ]
  },
  {
   "cell_type": "markdown",
   "metadata": {},
   "source": [
    "<span style='color:blue'>En `value` tenemos el tipo de pieza:\n",
    "- <span style='color:blue'>R = Rock\n",
    "- <span style='color:blue'>B = Bishop\n",
    "- <span style='color:blue'>N = Knight\n",
    "- <span style='color:blue'>Q = Queen\n",
    "- <span style='color:blue'>K = King\n",
    "- <span style='color:blue'>P = Pawn"
   ]
  },
  {
   "cell_type": "code",
   "execution_count": 11,
   "metadata": {
    "scrolled": true
   },
   "outputs": [
    {
     "data": {
      "text/plain": [
       "'N'"
      ]
     },
     "execution_count": 11,
     "metadata": {},
     "output_type": "execute_result"
    }
   ],
   "source": [
    "rocinante.value"
   ]
  },
  {
   "cell_type": "markdown",
   "metadata": {},
   "source": [
    "<span style='color:blue'>En `color` tenemos el color de la pieza (b == blue, r == red)"
   ]
  },
  {
   "cell_type": "code",
   "execution_count": 12,
   "metadata": {
    "scrolled": true
   },
   "outputs": [
    {
     "data": {
      "text/plain": [
       "'b'"
      ]
     },
     "execution_count": 12,
     "metadata": {},
     "output_type": "execute_result"
    }
   ],
   "source": [
    "rocinante.color"
   ]
  },
  {
   "cell_type": "markdown",
   "metadata": {},
   "source": [
    "<span style='color:blue'>En `row` y `col` tenemos el índice de la fila y de la columna, respectivamente"
   ]
  },
  {
   "cell_type": "code",
   "execution_count": 13,
   "metadata": {},
   "outputs": [
    {
     "data": {
      "text/plain": [
       "(7, 1)"
      ]
     },
     "execution_count": 13,
     "metadata": {},
     "output_type": "execute_result"
    }
   ],
   "source": [
    "rocinante.row, rocinante.col"
   ]
  },
  {
   "cell_type": "markdown",
   "metadata": {},
   "source": [
    "<span style='color:blue'>En `id1` tenemos la concatenación de `value` y `color`"
   ]
  },
  {
   "cell_type": "code",
   "execution_count": 14,
   "metadata": {
    "scrolled": true
   },
   "outputs": [
    {
     "data": {
      "text/plain": [
       "'Nb'"
      ]
     },
     "execution_count": 14,
     "metadata": {},
     "output_type": "execute_result"
    }
   ],
   "source": [
    "rocinante.id1"
   ]
  },
  {
   "cell_type": "markdown",
   "metadata": {},
   "source": [
    "<span style='color:blue'>En `id2` tenemos el siguiente identificador único: tipo + color + posición original"
   ]
  },
  {
   "cell_type": "code",
   "execution_count": 15,
   "metadata": {},
   "outputs": [
    {
     "data": {
      "text/plain": [
       "'Nb71'"
      ]
     },
     "execution_count": 15,
     "metadata": {},
     "output_type": "execute_result"
    }
   ],
   "source": [
    "rocinante.id2"
   ]
  },
  {
   "cell_type": "markdown",
   "metadata": {},
   "source": [
    "<span style='color:blue'>El atributo `first_movement` es un flag booleano para indicar si ya ha hecho el primer movimiento o no (útil para los peones y para los enroques)"
   ]
  },
  {
   "cell_type": "code",
   "execution_count": 16,
   "metadata": {
    "scrolled": false
   },
   "outputs": [
    {
     "data": {
      "text/plain": [
       "True"
      ]
     },
     "execution_count": 16,
     "metadata": {},
     "output_type": "execute_result"
    }
   ],
   "source": [
    "rocinante.first_movement"
   ]
  },
  {
   "cell_type": "markdown",
   "metadata": {},
   "source": [
    "<span style='color:blue'>Las piezas tienen el método `compute_moves` que calculan los movimientos asociados a cada pieza"
   ]
  },
  {
   "cell_type": "code",
   "execution_count": 17,
   "metadata": {},
   "outputs": [],
   "source": [
    "rocinante.compute_moves(obs)"
   ]
  },
  {
   "cell_type": "markdown",
   "metadata": {},
   "source": [
    "<span style='color:blue'>Los **motivimientos naturales** son aquellos intrínsecos a la pieza según su valor y posición"
   ]
  },
  {
   "cell_type": "code",
   "execution_count": 18,
   "metadata": {
    "scrolled": true
   },
   "outputs": [
    {
     "data": {
      "text/plain": [
       "[(5, 0), (5, 2), (6, 3)]"
      ]
     },
     "execution_count": 18,
     "metadata": {},
     "output_type": "execute_result"
    }
   ],
   "source": [
    "rocinante.natural_moves"
   ]
  },
  {
   "cell_type": "markdown",
   "metadata": {},
   "source": [
    "<span style='color:blue'>Los **motivimientos legales** es el subconjunto de los movimientos naturales cuyas posiciones respetarían las reglas del juego. Podemos ver como en este ejemplo, el caballo no puede saltar a (6, 3) por que ahora mismo en esa casilla hay un peón de su mismo color"
   ]
  },
  {
   "cell_type": "code",
   "execution_count": 19,
   "metadata": {},
   "outputs": [
    {
     "data": {
      "text/plain": [
       "[(5, 0), (5, 2)]"
      ]
     },
     "execution_count": 19,
     "metadata": {},
     "output_type": "execute_result"
    }
   ],
   "source": [
    "rocinante.legal_moves"
   ]
  },
  {
   "cell_type": "markdown",
   "metadata": {},
   "source": [
    "<span style='color:blue'>Podemos mover la pieza a cualquier posición de los movimientos legales con el método `move()`"
   ]
  },
  {
   "cell_type": "code",
   "execution_count": 20,
   "metadata": {},
   "outputs": [],
   "source": [
    "rocinante.move(obs, (5, 2))"
   ]
  },
  {
   "cell_type": "markdown",
   "metadata": {},
   "source": [
    "<span style='color:blue'>Podemos ver como ha cambiado el tablero"
   ]
  },
  {
   "cell_type": "code",
   "execution_count": 21,
   "metadata": {
    "scrolled": false
   },
   "outputs": [
    {
     "data": {
      "text/html": [
       "<style type=\"text/css\">\n",
       "#T_8b835 * {\n",
       "  background-color: beige;\n",
       "  border-color: black;\n",
       "  border-width: 1px;\n",
       "  border-style: solid;\n",
       "  width: 30px;\n",
       "  text-align: center;\n",
       "}\n",
       "#T_8b835 th {\n",
       "  background-color: #ffe3a9;\n",
       "}\n",
       "#T_8b835_row0_col0, #T_8b835_row0_col1, #T_8b835_row0_col2, #T_8b835_row0_col3, #T_8b835_row0_col4, #T_8b835_row0_col5, #T_8b835_row0_col6, #T_8b835_row0_col7, #T_8b835_row1_col0, #T_8b835_row1_col1, #T_8b835_row1_col2, #T_8b835_row1_col3, #T_8b835_row1_col4, #T_8b835_row1_col5, #T_8b835_row1_col6, #T_8b835_row1_col7 {\n",
       "  color: black;\n",
       "  background-color: #ffadad;\n",
       "}\n",
       "#T_8b835_row2_col0, #T_8b835_row2_col1, #T_8b835_row2_col2, #T_8b835_row2_col3, #T_8b835_row2_col4, #T_8b835_row2_col5, #T_8b835_row2_col6, #T_8b835_row2_col7, #T_8b835_row3_col0, #T_8b835_row3_col1, #T_8b835_row3_col2, #T_8b835_row3_col3, #T_8b835_row3_col4, #T_8b835_row3_col5, #T_8b835_row3_col6, #T_8b835_row3_col7, #T_8b835_row4_col0, #T_8b835_row4_col1, #T_8b835_row4_col2, #T_8b835_row4_col3, #T_8b835_row4_col4, #T_8b835_row4_col5, #T_8b835_row4_col6, #T_8b835_row4_col7, #T_8b835_row5_col0, #T_8b835_row5_col1, #T_8b835_row5_col3, #T_8b835_row5_col4, #T_8b835_row5_col5, #T_8b835_row5_col6, #T_8b835_row5_col7, #T_8b835_row7_col1 {\n",
       "  color: beige;\n",
       "  background-color: beige;\n",
       "}\n",
       "#T_8b835_row5_col2, #T_8b835_row6_col0, #T_8b835_row6_col1, #T_8b835_row6_col2, #T_8b835_row6_col3, #T_8b835_row6_col4, #T_8b835_row6_col5, #T_8b835_row6_col6, #T_8b835_row6_col7, #T_8b835_row7_col0, #T_8b835_row7_col2, #T_8b835_row7_col3, #T_8b835_row7_col4, #T_8b835_row7_col5, #T_8b835_row7_col6, #T_8b835_row7_col7 {\n",
       "  color: black;\n",
       "  background-color: #ade9ff;\n",
       "}\n",
       "</style>\n",
       "<table id=\"T_8b835\">\n",
       "  <thead>\n",
       "    <tr>\n",
       "      <th class=\"blank level0\" >&nbsp;</th>\n",
       "      <th id=\"T_8b835_level0_col0\" class=\"col_heading level0 col0\" >0</th>\n",
       "      <th id=\"T_8b835_level0_col1\" class=\"col_heading level0 col1\" >1</th>\n",
       "      <th id=\"T_8b835_level0_col2\" class=\"col_heading level0 col2\" >2</th>\n",
       "      <th id=\"T_8b835_level0_col3\" class=\"col_heading level0 col3\" >3</th>\n",
       "      <th id=\"T_8b835_level0_col4\" class=\"col_heading level0 col4\" >4</th>\n",
       "      <th id=\"T_8b835_level0_col5\" class=\"col_heading level0 col5\" >5</th>\n",
       "      <th id=\"T_8b835_level0_col6\" class=\"col_heading level0 col6\" >6</th>\n",
       "      <th id=\"T_8b835_level0_col7\" class=\"col_heading level0 col7\" >7</th>\n",
       "    </tr>\n",
       "  </thead>\n",
       "  <tbody>\n",
       "    <tr>\n",
       "      <th id=\"T_8b835_level0_row0\" class=\"row_heading level0 row0\" >0</th>\n",
       "      <td id=\"T_8b835_row0_col0\" class=\"data row0 col0\" >Rr</td>\n",
       "      <td id=\"T_8b835_row0_col1\" class=\"data row0 col1\" >Nr</td>\n",
       "      <td id=\"T_8b835_row0_col2\" class=\"data row0 col2\" >Br</td>\n",
       "      <td id=\"T_8b835_row0_col3\" class=\"data row0 col3\" >Qr</td>\n",
       "      <td id=\"T_8b835_row0_col4\" class=\"data row0 col4\" >Kr</td>\n",
       "      <td id=\"T_8b835_row0_col5\" class=\"data row0 col5\" >Br</td>\n",
       "      <td id=\"T_8b835_row0_col6\" class=\"data row0 col6\" >Nr</td>\n",
       "      <td id=\"T_8b835_row0_col7\" class=\"data row0 col7\" >Rr</td>\n",
       "    </tr>\n",
       "    <tr>\n",
       "      <th id=\"T_8b835_level0_row1\" class=\"row_heading level0 row1\" >1</th>\n",
       "      <td id=\"T_8b835_row1_col0\" class=\"data row1 col0\" >Pr</td>\n",
       "      <td id=\"T_8b835_row1_col1\" class=\"data row1 col1\" >Pr</td>\n",
       "      <td id=\"T_8b835_row1_col2\" class=\"data row1 col2\" >Pr</td>\n",
       "      <td id=\"T_8b835_row1_col3\" class=\"data row1 col3\" >Pr</td>\n",
       "      <td id=\"T_8b835_row1_col4\" class=\"data row1 col4\" >Pr</td>\n",
       "      <td id=\"T_8b835_row1_col5\" class=\"data row1 col5\" >Pr</td>\n",
       "      <td id=\"T_8b835_row1_col6\" class=\"data row1 col6\" >Pr</td>\n",
       "      <td id=\"T_8b835_row1_col7\" class=\"data row1 col7\" >Pr</td>\n",
       "    </tr>\n",
       "    <tr>\n",
       "      <th id=\"T_8b835_level0_row2\" class=\"row_heading level0 row2\" >2</th>\n",
       "      <td id=\"T_8b835_row2_col0\" class=\"data row2 col0\" ></td>\n",
       "      <td id=\"T_8b835_row2_col1\" class=\"data row2 col1\" ></td>\n",
       "      <td id=\"T_8b835_row2_col2\" class=\"data row2 col2\" ></td>\n",
       "      <td id=\"T_8b835_row2_col3\" class=\"data row2 col3\" ></td>\n",
       "      <td id=\"T_8b835_row2_col4\" class=\"data row2 col4\" ></td>\n",
       "      <td id=\"T_8b835_row2_col5\" class=\"data row2 col5\" ></td>\n",
       "      <td id=\"T_8b835_row2_col6\" class=\"data row2 col6\" ></td>\n",
       "      <td id=\"T_8b835_row2_col7\" class=\"data row2 col7\" ></td>\n",
       "    </tr>\n",
       "    <tr>\n",
       "      <th id=\"T_8b835_level0_row3\" class=\"row_heading level0 row3\" >3</th>\n",
       "      <td id=\"T_8b835_row3_col0\" class=\"data row3 col0\" ></td>\n",
       "      <td id=\"T_8b835_row3_col1\" class=\"data row3 col1\" ></td>\n",
       "      <td id=\"T_8b835_row3_col2\" class=\"data row3 col2\" ></td>\n",
       "      <td id=\"T_8b835_row3_col3\" class=\"data row3 col3\" ></td>\n",
       "      <td id=\"T_8b835_row3_col4\" class=\"data row3 col4\" ></td>\n",
       "      <td id=\"T_8b835_row3_col5\" class=\"data row3 col5\" ></td>\n",
       "      <td id=\"T_8b835_row3_col6\" class=\"data row3 col6\" ></td>\n",
       "      <td id=\"T_8b835_row3_col7\" class=\"data row3 col7\" ></td>\n",
       "    </tr>\n",
       "    <tr>\n",
       "      <th id=\"T_8b835_level0_row4\" class=\"row_heading level0 row4\" >4</th>\n",
       "      <td id=\"T_8b835_row4_col0\" class=\"data row4 col0\" ></td>\n",
       "      <td id=\"T_8b835_row4_col1\" class=\"data row4 col1\" ></td>\n",
       "      <td id=\"T_8b835_row4_col2\" class=\"data row4 col2\" ></td>\n",
       "      <td id=\"T_8b835_row4_col3\" class=\"data row4 col3\" ></td>\n",
       "      <td id=\"T_8b835_row4_col4\" class=\"data row4 col4\" ></td>\n",
       "      <td id=\"T_8b835_row4_col5\" class=\"data row4 col5\" ></td>\n",
       "      <td id=\"T_8b835_row4_col6\" class=\"data row4 col6\" ></td>\n",
       "      <td id=\"T_8b835_row4_col7\" class=\"data row4 col7\" ></td>\n",
       "    </tr>\n",
       "    <tr>\n",
       "      <th id=\"T_8b835_level0_row5\" class=\"row_heading level0 row5\" >5</th>\n",
       "      <td id=\"T_8b835_row5_col0\" class=\"data row5 col0\" ></td>\n",
       "      <td id=\"T_8b835_row5_col1\" class=\"data row5 col1\" ></td>\n",
       "      <td id=\"T_8b835_row5_col2\" class=\"data row5 col2\" >Nb</td>\n",
       "      <td id=\"T_8b835_row5_col3\" class=\"data row5 col3\" ></td>\n",
       "      <td id=\"T_8b835_row5_col4\" class=\"data row5 col4\" ></td>\n",
       "      <td id=\"T_8b835_row5_col5\" class=\"data row5 col5\" ></td>\n",
       "      <td id=\"T_8b835_row5_col6\" class=\"data row5 col6\" ></td>\n",
       "      <td id=\"T_8b835_row5_col7\" class=\"data row5 col7\" ></td>\n",
       "    </tr>\n",
       "    <tr>\n",
       "      <th id=\"T_8b835_level0_row6\" class=\"row_heading level0 row6\" >6</th>\n",
       "      <td id=\"T_8b835_row6_col0\" class=\"data row6 col0\" >Pb</td>\n",
       "      <td id=\"T_8b835_row6_col1\" class=\"data row6 col1\" >Pb</td>\n",
       "      <td id=\"T_8b835_row6_col2\" class=\"data row6 col2\" >Pb</td>\n",
       "      <td id=\"T_8b835_row6_col3\" class=\"data row6 col3\" >Pb</td>\n",
       "      <td id=\"T_8b835_row6_col4\" class=\"data row6 col4\" >Pb</td>\n",
       "      <td id=\"T_8b835_row6_col5\" class=\"data row6 col5\" >Pb</td>\n",
       "      <td id=\"T_8b835_row6_col6\" class=\"data row6 col6\" >Pb</td>\n",
       "      <td id=\"T_8b835_row6_col7\" class=\"data row6 col7\" >Pb</td>\n",
       "    </tr>\n",
       "    <tr>\n",
       "      <th id=\"T_8b835_level0_row7\" class=\"row_heading level0 row7\" >7</th>\n",
       "      <td id=\"T_8b835_row7_col0\" class=\"data row7 col0\" >Rb</td>\n",
       "      <td id=\"T_8b835_row7_col1\" class=\"data row7 col1\" ></td>\n",
       "      <td id=\"T_8b835_row7_col2\" class=\"data row7 col2\" >Bb</td>\n",
       "      <td id=\"T_8b835_row7_col3\" class=\"data row7 col3\" >Qb</td>\n",
       "      <td id=\"T_8b835_row7_col4\" class=\"data row7 col4\" >Kb</td>\n",
       "      <td id=\"T_8b835_row7_col5\" class=\"data row7 col5\" >Bb</td>\n",
       "      <td id=\"T_8b835_row7_col6\" class=\"data row7 col6\" >Nb</td>\n",
       "      <td id=\"T_8b835_row7_col7\" class=\"data row7 col7\" >Rb</td>\n",
       "    </tr>\n",
       "  </tbody>\n",
       "</table>\n"
      ],
      "text/plain": [
       "<pandas.io.formats.style.Styler at 0x1fb37af5c40>"
      ]
     },
     "metadata": {},
     "output_type": "display_data"
    }
   ],
   "source": [
    "obs.display_board()"
   ]
  },
  {
   "cell_type": "markdown",
   "metadata": {},
   "source": [
    "<span style='color:blue'>Se ha actualizado el turno de forma que ahora les tocaría mover a las rojas"
   ]
  },
  {
   "cell_type": "code",
   "execution_count": 22,
   "metadata": {},
   "outputs": [
    {
     "data": {
      "text/plain": [
       "'r'"
      ]
     },
     "execution_count": 22,
     "metadata": {},
     "output_type": "execute_result"
    }
   ],
   "source": [
    "obs.turn"
   ]
  },
  {
   "cell_type": "markdown",
   "metadata": {},
   "source": [
    "<span style='color:blue'>Se ha actulizado también la posición de la pieza"
   ]
  },
  {
   "cell_type": "code",
   "execution_count": 23,
   "metadata": {},
   "outputs": [
    {
     "data": {
      "text/plain": [
       "(5, 2)"
      ]
     },
     "execution_count": 23,
     "metadata": {},
     "output_type": "execute_result"
    }
   ],
   "source": [
    "rocinante.row, rocinante.col"
   ]
  },
  {
   "cell_type": "markdown",
   "metadata": {},
   "source": [
    "<span style='color:blue'>Es importante puntualizar que tras el movimiento se recalculan los movimientos naturales y legales de todas las piezas del tablero"
   ]
  },
  {
   "cell_type": "code",
   "execution_count": 24,
   "metadata": {},
   "outputs": [
    {
     "data": {
      "text/plain": [
       "[(3, 1), (3, 3), (4, 0), (4, 4), (7, 1)]"
      ]
     },
     "execution_count": 24,
     "metadata": {},
     "output_type": "execute_result"
    }
   ],
   "source": [
    "rocinante.legal_moves"
   ]
  },
  {
   "cell_type": "markdown",
   "metadata": {},
   "source": [
    "<span style='color:blue'>Si intentamos mover de nuevo esta misma pieza nos salta un error advirtíendonos que ahora es el turno de las rojas"
   ]
  },
  {
   "cell_type": "code",
   "execution_count": 25,
   "metadata": {
    "scrolled": true
   },
   "outputs": [],
   "source": [
    "# rocinante.move(obs, (3, 3))"
   ]
  },
  {
   "cell_type": "markdown",
   "metadata": {},
   "source": [
    "<span style='color:blue'>Podemos cambiar el parámetro `respect_turn` a False para que sí nos deje"
   ]
  },
  {
   "cell_type": "code",
   "execution_count": 26,
   "metadata": {},
   "outputs": [
    {
     "data": {
      "text/html": [
       "<style type=\"text/css\">\n",
       "#T_ea5f8 * {\n",
       "  background-color: beige;\n",
       "  border-color: black;\n",
       "  border-width: 1px;\n",
       "  border-style: solid;\n",
       "  width: 30px;\n",
       "  text-align: center;\n",
       "}\n",
       "#T_ea5f8 th {\n",
       "  background-color: #ffe3a9;\n",
       "}\n",
       "#T_ea5f8_row0_col0, #T_ea5f8_row0_col1, #T_ea5f8_row0_col2, #T_ea5f8_row0_col3, #T_ea5f8_row0_col4, #T_ea5f8_row0_col5, #T_ea5f8_row0_col6, #T_ea5f8_row0_col7, #T_ea5f8_row1_col0, #T_ea5f8_row1_col1, #T_ea5f8_row1_col2, #T_ea5f8_row1_col3, #T_ea5f8_row1_col4, #T_ea5f8_row1_col5, #T_ea5f8_row1_col6, #T_ea5f8_row1_col7 {\n",
       "  color: black;\n",
       "  background-color: #ffadad;\n",
       "}\n",
       "#T_ea5f8_row2_col0, #T_ea5f8_row2_col1, #T_ea5f8_row2_col2, #T_ea5f8_row2_col3, #T_ea5f8_row2_col4, #T_ea5f8_row2_col5, #T_ea5f8_row2_col6, #T_ea5f8_row2_col7, #T_ea5f8_row3_col0, #T_ea5f8_row3_col1, #T_ea5f8_row3_col2, #T_ea5f8_row3_col4, #T_ea5f8_row3_col5, #T_ea5f8_row3_col6, #T_ea5f8_row3_col7, #T_ea5f8_row4_col0, #T_ea5f8_row4_col1, #T_ea5f8_row4_col2, #T_ea5f8_row4_col3, #T_ea5f8_row4_col4, #T_ea5f8_row4_col5, #T_ea5f8_row4_col6, #T_ea5f8_row4_col7, #T_ea5f8_row5_col0, #T_ea5f8_row5_col1, #T_ea5f8_row5_col2, #T_ea5f8_row5_col3, #T_ea5f8_row5_col4, #T_ea5f8_row5_col5, #T_ea5f8_row5_col6, #T_ea5f8_row5_col7, #T_ea5f8_row7_col1 {\n",
       "  color: beige;\n",
       "  background-color: beige;\n",
       "}\n",
       "#T_ea5f8_row3_col3, #T_ea5f8_row6_col0, #T_ea5f8_row6_col1, #T_ea5f8_row6_col2, #T_ea5f8_row6_col3, #T_ea5f8_row6_col4, #T_ea5f8_row6_col5, #T_ea5f8_row6_col6, #T_ea5f8_row6_col7, #T_ea5f8_row7_col0, #T_ea5f8_row7_col2, #T_ea5f8_row7_col3, #T_ea5f8_row7_col4, #T_ea5f8_row7_col5, #T_ea5f8_row7_col6, #T_ea5f8_row7_col7 {\n",
       "  color: black;\n",
       "  background-color: #ade9ff;\n",
       "}\n",
       "</style>\n",
       "<table id=\"T_ea5f8\">\n",
       "  <thead>\n",
       "    <tr>\n",
       "      <th class=\"blank level0\" >&nbsp;</th>\n",
       "      <th id=\"T_ea5f8_level0_col0\" class=\"col_heading level0 col0\" >0</th>\n",
       "      <th id=\"T_ea5f8_level0_col1\" class=\"col_heading level0 col1\" >1</th>\n",
       "      <th id=\"T_ea5f8_level0_col2\" class=\"col_heading level0 col2\" >2</th>\n",
       "      <th id=\"T_ea5f8_level0_col3\" class=\"col_heading level0 col3\" >3</th>\n",
       "      <th id=\"T_ea5f8_level0_col4\" class=\"col_heading level0 col4\" >4</th>\n",
       "      <th id=\"T_ea5f8_level0_col5\" class=\"col_heading level0 col5\" >5</th>\n",
       "      <th id=\"T_ea5f8_level0_col6\" class=\"col_heading level0 col6\" >6</th>\n",
       "      <th id=\"T_ea5f8_level0_col7\" class=\"col_heading level0 col7\" >7</th>\n",
       "    </tr>\n",
       "  </thead>\n",
       "  <tbody>\n",
       "    <tr>\n",
       "      <th id=\"T_ea5f8_level0_row0\" class=\"row_heading level0 row0\" >0</th>\n",
       "      <td id=\"T_ea5f8_row0_col0\" class=\"data row0 col0\" >Rr</td>\n",
       "      <td id=\"T_ea5f8_row0_col1\" class=\"data row0 col1\" >Nr</td>\n",
       "      <td id=\"T_ea5f8_row0_col2\" class=\"data row0 col2\" >Br</td>\n",
       "      <td id=\"T_ea5f8_row0_col3\" class=\"data row0 col3\" >Qr</td>\n",
       "      <td id=\"T_ea5f8_row0_col4\" class=\"data row0 col4\" >Kr</td>\n",
       "      <td id=\"T_ea5f8_row0_col5\" class=\"data row0 col5\" >Br</td>\n",
       "      <td id=\"T_ea5f8_row0_col6\" class=\"data row0 col6\" >Nr</td>\n",
       "      <td id=\"T_ea5f8_row0_col7\" class=\"data row0 col7\" >Rr</td>\n",
       "    </tr>\n",
       "    <tr>\n",
       "      <th id=\"T_ea5f8_level0_row1\" class=\"row_heading level0 row1\" >1</th>\n",
       "      <td id=\"T_ea5f8_row1_col0\" class=\"data row1 col0\" >Pr</td>\n",
       "      <td id=\"T_ea5f8_row1_col1\" class=\"data row1 col1\" >Pr</td>\n",
       "      <td id=\"T_ea5f8_row1_col2\" class=\"data row1 col2\" >Pr</td>\n",
       "      <td id=\"T_ea5f8_row1_col3\" class=\"data row1 col3\" >Pr</td>\n",
       "      <td id=\"T_ea5f8_row1_col4\" class=\"data row1 col4\" >Pr</td>\n",
       "      <td id=\"T_ea5f8_row1_col5\" class=\"data row1 col5\" >Pr</td>\n",
       "      <td id=\"T_ea5f8_row1_col6\" class=\"data row1 col6\" >Pr</td>\n",
       "      <td id=\"T_ea5f8_row1_col7\" class=\"data row1 col7\" >Pr</td>\n",
       "    </tr>\n",
       "    <tr>\n",
       "      <th id=\"T_ea5f8_level0_row2\" class=\"row_heading level0 row2\" >2</th>\n",
       "      <td id=\"T_ea5f8_row2_col0\" class=\"data row2 col0\" ></td>\n",
       "      <td id=\"T_ea5f8_row2_col1\" class=\"data row2 col1\" ></td>\n",
       "      <td id=\"T_ea5f8_row2_col2\" class=\"data row2 col2\" ></td>\n",
       "      <td id=\"T_ea5f8_row2_col3\" class=\"data row2 col3\" ></td>\n",
       "      <td id=\"T_ea5f8_row2_col4\" class=\"data row2 col4\" ></td>\n",
       "      <td id=\"T_ea5f8_row2_col5\" class=\"data row2 col5\" ></td>\n",
       "      <td id=\"T_ea5f8_row2_col6\" class=\"data row2 col6\" ></td>\n",
       "      <td id=\"T_ea5f8_row2_col7\" class=\"data row2 col7\" ></td>\n",
       "    </tr>\n",
       "    <tr>\n",
       "      <th id=\"T_ea5f8_level0_row3\" class=\"row_heading level0 row3\" >3</th>\n",
       "      <td id=\"T_ea5f8_row3_col0\" class=\"data row3 col0\" ></td>\n",
       "      <td id=\"T_ea5f8_row3_col1\" class=\"data row3 col1\" ></td>\n",
       "      <td id=\"T_ea5f8_row3_col2\" class=\"data row3 col2\" ></td>\n",
       "      <td id=\"T_ea5f8_row3_col3\" class=\"data row3 col3\" >Nb</td>\n",
       "      <td id=\"T_ea5f8_row3_col4\" class=\"data row3 col4\" ></td>\n",
       "      <td id=\"T_ea5f8_row3_col5\" class=\"data row3 col5\" ></td>\n",
       "      <td id=\"T_ea5f8_row3_col6\" class=\"data row3 col6\" ></td>\n",
       "      <td id=\"T_ea5f8_row3_col7\" class=\"data row3 col7\" ></td>\n",
       "    </tr>\n",
       "    <tr>\n",
       "      <th id=\"T_ea5f8_level0_row4\" class=\"row_heading level0 row4\" >4</th>\n",
       "      <td id=\"T_ea5f8_row4_col0\" class=\"data row4 col0\" ></td>\n",
       "      <td id=\"T_ea5f8_row4_col1\" class=\"data row4 col1\" ></td>\n",
       "      <td id=\"T_ea5f8_row4_col2\" class=\"data row4 col2\" ></td>\n",
       "      <td id=\"T_ea5f8_row4_col3\" class=\"data row4 col3\" ></td>\n",
       "      <td id=\"T_ea5f8_row4_col4\" class=\"data row4 col4\" ></td>\n",
       "      <td id=\"T_ea5f8_row4_col5\" class=\"data row4 col5\" ></td>\n",
       "      <td id=\"T_ea5f8_row4_col6\" class=\"data row4 col6\" ></td>\n",
       "      <td id=\"T_ea5f8_row4_col7\" class=\"data row4 col7\" ></td>\n",
       "    </tr>\n",
       "    <tr>\n",
       "      <th id=\"T_ea5f8_level0_row5\" class=\"row_heading level0 row5\" >5</th>\n",
       "      <td id=\"T_ea5f8_row5_col0\" class=\"data row5 col0\" ></td>\n",
       "      <td id=\"T_ea5f8_row5_col1\" class=\"data row5 col1\" ></td>\n",
       "      <td id=\"T_ea5f8_row5_col2\" class=\"data row5 col2\" ></td>\n",
       "      <td id=\"T_ea5f8_row5_col3\" class=\"data row5 col3\" ></td>\n",
       "      <td id=\"T_ea5f8_row5_col4\" class=\"data row5 col4\" ></td>\n",
       "      <td id=\"T_ea5f8_row5_col5\" class=\"data row5 col5\" ></td>\n",
       "      <td id=\"T_ea5f8_row5_col6\" class=\"data row5 col6\" ></td>\n",
       "      <td id=\"T_ea5f8_row5_col7\" class=\"data row5 col7\" ></td>\n",
       "    </tr>\n",
       "    <tr>\n",
       "      <th id=\"T_ea5f8_level0_row6\" class=\"row_heading level0 row6\" >6</th>\n",
       "      <td id=\"T_ea5f8_row6_col0\" class=\"data row6 col0\" >Pb</td>\n",
       "      <td id=\"T_ea5f8_row6_col1\" class=\"data row6 col1\" >Pb</td>\n",
       "      <td id=\"T_ea5f8_row6_col2\" class=\"data row6 col2\" >Pb</td>\n",
       "      <td id=\"T_ea5f8_row6_col3\" class=\"data row6 col3\" >Pb</td>\n",
       "      <td id=\"T_ea5f8_row6_col4\" class=\"data row6 col4\" >Pb</td>\n",
       "      <td id=\"T_ea5f8_row6_col5\" class=\"data row6 col5\" >Pb</td>\n",
       "      <td id=\"T_ea5f8_row6_col6\" class=\"data row6 col6\" >Pb</td>\n",
       "      <td id=\"T_ea5f8_row6_col7\" class=\"data row6 col7\" >Pb</td>\n",
       "    </tr>\n",
       "    <tr>\n",
       "      <th id=\"T_ea5f8_level0_row7\" class=\"row_heading level0 row7\" >7</th>\n",
       "      <td id=\"T_ea5f8_row7_col0\" class=\"data row7 col0\" >Rb</td>\n",
       "      <td id=\"T_ea5f8_row7_col1\" class=\"data row7 col1\" ></td>\n",
       "      <td id=\"T_ea5f8_row7_col2\" class=\"data row7 col2\" >Bb</td>\n",
       "      <td id=\"T_ea5f8_row7_col3\" class=\"data row7 col3\" >Qb</td>\n",
       "      <td id=\"T_ea5f8_row7_col4\" class=\"data row7 col4\" >Kb</td>\n",
       "      <td id=\"T_ea5f8_row7_col5\" class=\"data row7 col5\" >Bb</td>\n",
       "      <td id=\"T_ea5f8_row7_col6\" class=\"data row7 col6\" >Nb</td>\n",
       "      <td id=\"T_ea5f8_row7_col7\" class=\"data row7 col7\" >Rb</td>\n",
       "    </tr>\n",
       "  </tbody>\n",
       "</table>\n"
      ],
      "text/plain": [
       "<pandas.io.formats.style.Styler at 0x1fb37af5a90>"
      ]
     },
     "metadata": {},
     "output_type": "display_data"
    }
   ],
   "source": [
    "rocinante.move(obs, (3, 3), respect_turn=False)\n",
    "obs.display_board()"
   ]
  },
  {
   "cell_type": "markdown",
   "metadata": {},
   "source": [
    "<span style='color:blue'>Eso sí, el turno aún seguiría siendo de las rojas"
   ]
  },
  {
   "cell_type": "code",
   "execution_count": 27,
   "metadata": {},
   "outputs": [
    {
     "data": {
      "text/plain": [
       "'r'"
      ]
     },
     "execution_count": 27,
     "metadata": {},
     "output_type": "execute_result"
    }
   ],
   "source": [
    "obs.turn"
   ]
  },
  {
   "cell_type": "markdown",
   "metadata": {},
   "source": [
    "<span style='color:blue'>Insistimos que tras el movimiento los `legal_moves` de rocinante (y de todas las demás piezas!) se han actualizado automáticamente"
   ]
  },
  {
   "cell_type": "code",
   "execution_count": 28,
   "metadata": {},
   "outputs": [
    {
     "data": {
      "text/plain": [
       "[(1, 2), (1, 4), (2, 1), (2, 5), (4, 1), (4, 5), (5, 2), (5, 4)]"
      ]
     },
     "execution_count": 28,
     "metadata": {},
     "output_type": "execute_result"
    }
   ],
   "source": [
    "rocinante.legal_moves"
   ]
  },
  {
   "cell_type": "markdown",
   "metadata": {},
   "source": [
    "<span style='color:blue'>Si intentamos un movimiento que no es legal (como capturar el rey rojo situado en (0, 4)) nos salta un error de que eso no es posible"
   ]
  },
  {
   "cell_type": "code",
   "execution_count": 29,
   "metadata": {},
   "outputs": [],
   "source": [
    "# rocinante.move(obs, (0, 4), respect_turn=False)"
   ]
  },
  {
   "cell_type": "markdown",
   "metadata": {},
   "source": [
    "<span style='color:blue'>También se puede activar el parámetro booleano `info` que da información sobre el movimiento realizado"
   ]
  },
  {
   "cell_type": "code",
   "execution_count": 30,
   "metadata": {},
   "outputs": [
    {
     "name": "stdout",
     "output_type": "stream",
     "text": [
      "El caballo de (3, 3) se ha movido a (2, 1)\n"
     ]
    }
   ],
   "source": [
    "rocinante.move(obs, (2, 1), info=True, respect_turn=False)"
   ]
  },
  {
   "cell_type": "code",
   "execution_count": 31,
   "metadata": {
    "scrolled": true
   },
   "outputs": [
    {
     "data": {
      "text/html": [
       "<style type=\"text/css\">\n",
       "#T_d347b * {\n",
       "  background-color: beige;\n",
       "  border-color: black;\n",
       "  border-width: 1px;\n",
       "  border-style: solid;\n",
       "  width: 30px;\n",
       "  text-align: center;\n",
       "}\n",
       "#T_d347b th {\n",
       "  background-color: #ffe3a9;\n",
       "}\n",
       "#T_d347b_row0_col0, #T_d347b_row0_col1, #T_d347b_row0_col2, #T_d347b_row0_col3, #T_d347b_row0_col4, #T_d347b_row0_col5, #T_d347b_row0_col6, #T_d347b_row0_col7, #T_d347b_row1_col0, #T_d347b_row1_col1, #T_d347b_row1_col2, #T_d347b_row1_col3, #T_d347b_row1_col4, #T_d347b_row1_col5, #T_d347b_row1_col6, #T_d347b_row1_col7 {\n",
       "  color: black;\n",
       "  background-color: #ffadad;\n",
       "}\n",
       "#T_d347b_row2_col0, #T_d347b_row2_col2, #T_d347b_row2_col3, #T_d347b_row2_col4, #T_d347b_row2_col5, #T_d347b_row2_col6, #T_d347b_row2_col7, #T_d347b_row3_col0, #T_d347b_row3_col1, #T_d347b_row3_col2, #T_d347b_row3_col3, #T_d347b_row3_col4, #T_d347b_row3_col5, #T_d347b_row3_col6, #T_d347b_row3_col7, #T_d347b_row4_col0, #T_d347b_row4_col1, #T_d347b_row4_col2, #T_d347b_row4_col3, #T_d347b_row4_col4, #T_d347b_row4_col5, #T_d347b_row4_col6, #T_d347b_row4_col7, #T_d347b_row5_col0, #T_d347b_row5_col1, #T_d347b_row5_col2, #T_d347b_row5_col3, #T_d347b_row5_col4, #T_d347b_row5_col5, #T_d347b_row5_col6, #T_d347b_row5_col7, #T_d347b_row7_col1 {\n",
       "  color: beige;\n",
       "  background-color: beige;\n",
       "}\n",
       "#T_d347b_row2_col1, #T_d347b_row6_col0, #T_d347b_row6_col1, #T_d347b_row6_col2, #T_d347b_row6_col3, #T_d347b_row6_col4, #T_d347b_row6_col5, #T_d347b_row6_col6, #T_d347b_row6_col7, #T_d347b_row7_col0, #T_d347b_row7_col2, #T_d347b_row7_col3, #T_d347b_row7_col4, #T_d347b_row7_col5, #T_d347b_row7_col6, #T_d347b_row7_col7 {\n",
       "  color: black;\n",
       "  background-color: #ade9ff;\n",
       "}\n",
       "</style>\n",
       "<table id=\"T_d347b\">\n",
       "  <thead>\n",
       "    <tr>\n",
       "      <th class=\"blank level0\" >&nbsp;</th>\n",
       "      <th id=\"T_d347b_level0_col0\" class=\"col_heading level0 col0\" >0</th>\n",
       "      <th id=\"T_d347b_level0_col1\" class=\"col_heading level0 col1\" >1</th>\n",
       "      <th id=\"T_d347b_level0_col2\" class=\"col_heading level0 col2\" >2</th>\n",
       "      <th id=\"T_d347b_level0_col3\" class=\"col_heading level0 col3\" >3</th>\n",
       "      <th id=\"T_d347b_level0_col4\" class=\"col_heading level0 col4\" >4</th>\n",
       "      <th id=\"T_d347b_level0_col5\" class=\"col_heading level0 col5\" >5</th>\n",
       "      <th id=\"T_d347b_level0_col6\" class=\"col_heading level0 col6\" >6</th>\n",
       "      <th id=\"T_d347b_level0_col7\" class=\"col_heading level0 col7\" >7</th>\n",
       "    </tr>\n",
       "  </thead>\n",
       "  <tbody>\n",
       "    <tr>\n",
       "      <th id=\"T_d347b_level0_row0\" class=\"row_heading level0 row0\" >0</th>\n",
       "      <td id=\"T_d347b_row0_col0\" class=\"data row0 col0\" >Rr</td>\n",
       "      <td id=\"T_d347b_row0_col1\" class=\"data row0 col1\" >Nr</td>\n",
       "      <td id=\"T_d347b_row0_col2\" class=\"data row0 col2\" >Br</td>\n",
       "      <td id=\"T_d347b_row0_col3\" class=\"data row0 col3\" >Qr</td>\n",
       "      <td id=\"T_d347b_row0_col4\" class=\"data row0 col4\" >Kr</td>\n",
       "      <td id=\"T_d347b_row0_col5\" class=\"data row0 col5\" >Br</td>\n",
       "      <td id=\"T_d347b_row0_col6\" class=\"data row0 col6\" >Nr</td>\n",
       "      <td id=\"T_d347b_row0_col7\" class=\"data row0 col7\" >Rr</td>\n",
       "    </tr>\n",
       "    <tr>\n",
       "      <th id=\"T_d347b_level0_row1\" class=\"row_heading level0 row1\" >1</th>\n",
       "      <td id=\"T_d347b_row1_col0\" class=\"data row1 col0\" >Pr</td>\n",
       "      <td id=\"T_d347b_row1_col1\" class=\"data row1 col1\" >Pr</td>\n",
       "      <td id=\"T_d347b_row1_col2\" class=\"data row1 col2\" >Pr</td>\n",
       "      <td id=\"T_d347b_row1_col3\" class=\"data row1 col3\" >Pr</td>\n",
       "      <td id=\"T_d347b_row1_col4\" class=\"data row1 col4\" >Pr</td>\n",
       "      <td id=\"T_d347b_row1_col5\" class=\"data row1 col5\" >Pr</td>\n",
       "      <td id=\"T_d347b_row1_col6\" class=\"data row1 col6\" >Pr</td>\n",
       "      <td id=\"T_d347b_row1_col7\" class=\"data row1 col7\" >Pr</td>\n",
       "    </tr>\n",
       "    <tr>\n",
       "      <th id=\"T_d347b_level0_row2\" class=\"row_heading level0 row2\" >2</th>\n",
       "      <td id=\"T_d347b_row2_col0\" class=\"data row2 col0\" ></td>\n",
       "      <td id=\"T_d347b_row2_col1\" class=\"data row2 col1\" >Nb</td>\n",
       "      <td id=\"T_d347b_row2_col2\" class=\"data row2 col2\" ></td>\n",
       "      <td id=\"T_d347b_row2_col3\" class=\"data row2 col3\" ></td>\n",
       "      <td id=\"T_d347b_row2_col4\" class=\"data row2 col4\" ></td>\n",
       "      <td id=\"T_d347b_row2_col5\" class=\"data row2 col5\" ></td>\n",
       "      <td id=\"T_d347b_row2_col6\" class=\"data row2 col6\" ></td>\n",
       "      <td id=\"T_d347b_row2_col7\" class=\"data row2 col7\" ></td>\n",
       "    </tr>\n",
       "    <tr>\n",
       "      <th id=\"T_d347b_level0_row3\" class=\"row_heading level0 row3\" >3</th>\n",
       "      <td id=\"T_d347b_row3_col0\" class=\"data row3 col0\" ></td>\n",
       "      <td id=\"T_d347b_row3_col1\" class=\"data row3 col1\" ></td>\n",
       "      <td id=\"T_d347b_row3_col2\" class=\"data row3 col2\" ></td>\n",
       "      <td id=\"T_d347b_row3_col3\" class=\"data row3 col3\" ></td>\n",
       "      <td id=\"T_d347b_row3_col4\" class=\"data row3 col4\" ></td>\n",
       "      <td id=\"T_d347b_row3_col5\" class=\"data row3 col5\" ></td>\n",
       "      <td id=\"T_d347b_row3_col6\" class=\"data row3 col6\" ></td>\n",
       "      <td id=\"T_d347b_row3_col7\" class=\"data row3 col7\" ></td>\n",
       "    </tr>\n",
       "    <tr>\n",
       "      <th id=\"T_d347b_level0_row4\" class=\"row_heading level0 row4\" >4</th>\n",
       "      <td id=\"T_d347b_row4_col0\" class=\"data row4 col0\" ></td>\n",
       "      <td id=\"T_d347b_row4_col1\" class=\"data row4 col1\" ></td>\n",
       "      <td id=\"T_d347b_row4_col2\" class=\"data row4 col2\" ></td>\n",
       "      <td id=\"T_d347b_row4_col3\" class=\"data row4 col3\" ></td>\n",
       "      <td id=\"T_d347b_row4_col4\" class=\"data row4 col4\" ></td>\n",
       "      <td id=\"T_d347b_row4_col5\" class=\"data row4 col5\" ></td>\n",
       "      <td id=\"T_d347b_row4_col6\" class=\"data row4 col6\" ></td>\n",
       "      <td id=\"T_d347b_row4_col7\" class=\"data row4 col7\" ></td>\n",
       "    </tr>\n",
       "    <tr>\n",
       "      <th id=\"T_d347b_level0_row5\" class=\"row_heading level0 row5\" >5</th>\n",
       "      <td id=\"T_d347b_row5_col0\" class=\"data row5 col0\" ></td>\n",
       "      <td id=\"T_d347b_row5_col1\" class=\"data row5 col1\" ></td>\n",
       "      <td id=\"T_d347b_row5_col2\" class=\"data row5 col2\" ></td>\n",
       "      <td id=\"T_d347b_row5_col3\" class=\"data row5 col3\" ></td>\n",
       "      <td id=\"T_d347b_row5_col4\" class=\"data row5 col4\" ></td>\n",
       "      <td id=\"T_d347b_row5_col5\" class=\"data row5 col5\" ></td>\n",
       "      <td id=\"T_d347b_row5_col6\" class=\"data row5 col6\" ></td>\n",
       "      <td id=\"T_d347b_row5_col7\" class=\"data row5 col7\" ></td>\n",
       "    </tr>\n",
       "    <tr>\n",
       "      <th id=\"T_d347b_level0_row6\" class=\"row_heading level0 row6\" >6</th>\n",
       "      <td id=\"T_d347b_row6_col0\" class=\"data row6 col0\" >Pb</td>\n",
       "      <td id=\"T_d347b_row6_col1\" class=\"data row6 col1\" >Pb</td>\n",
       "      <td id=\"T_d347b_row6_col2\" class=\"data row6 col2\" >Pb</td>\n",
       "      <td id=\"T_d347b_row6_col3\" class=\"data row6 col3\" >Pb</td>\n",
       "      <td id=\"T_d347b_row6_col4\" class=\"data row6 col4\" >Pb</td>\n",
       "      <td id=\"T_d347b_row6_col5\" class=\"data row6 col5\" >Pb</td>\n",
       "      <td id=\"T_d347b_row6_col6\" class=\"data row6 col6\" >Pb</td>\n",
       "      <td id=\"T_d347b_row6_col7\" class=\"data row6 col7\" >Pb</td>\n",
       "    </tr>\n",
       "    <tr>\n",
       "      <th id=\"T_d347b_level0_row7\" class=\"row_heading level0 row7\" >7</th>\n",
       "      <td id=\"T_d347b_row7_col0\" class=\"data row7 col0\" >Rb</td>\n",
       "      <td id=\"T_d347b_row7_col1\" class=\"data row7 col1\" ></td>\n",
       "      <td id=\"T_d347b_row7_col2\" class=\"data row7 col2\" >Bb</td>\n",
       "      <td id=\"T_d347b_row7_col3\" class=\"data row7 col3\" >Qb</td>\n",
       "      <td id=\"T_d347b_row7_col4\" class=\"data row7 col4\" >Kb</td>\n",
       "      <td id=\"T_d347b_row7_col5\" class=\"data row7 col5\" >Bb</td>\n",
       "      <td id=\"T_d347b_row7_col6\" class=\"data row7 col6\" >Nb</td>\n",
       "      <td id=\"T_d347b_row7_col7\" class=\"data row7 col7\" >Rb</td>\n",
       "    </tr>\n",
       "  </tbody>\n",
       "</table>\n"
      ],
      "text/plain": [
       "<pandas.io.formats.style.Styler at 0x1fb37b199d0>"
      ]
     },
     "metadata": {},
     "output_type": "display_data"
    }
   ],
   "source": [
    "obs.display_board()"
   ]
  },
  {
   "cell_type": "markdown",
   "metadata": {},
   "source": [
    "<span style='color:blue'>Podemos deshacer el último movimiento con `undo()`"
   ]
  },
  {
   "cell_type": "code",
   "execution_count": 32,
   "metadata": {
    "scrolled": true
   },
   "outputs": [
    {
     "data": {
      "text/html": [
       "<style type=\"text/css\">\n",
       "#T_bf496 * {\n",
       "  background-color: beige;\n",
       "  border-color: black;\n",
       "  border-width: 1px;\n",
       "  border-style: solid;\n",
       "  width: 30px;\n",
       "  text-align: center;\n",
       "}\n",
       "#T_bf496 th {\n",
       "  background-color: #ffe3a9;\n",
       "}\n",
       "#T_bf496_row0_col0, #T_bf496_row0_col1, #T_bf496_row0_col2, #T_bf496_row0_col3, #T_bf496_row0_col4, #T_bf496_row0_col5, #T_bf496_row0_col6, #T_bf496_row0_col7, #T_bf496_row1_col0, #T_bf496_row1_col1, #T_bf496_row1_col2, #T_bf496_row1_col3, #T_bf496_row1_col4, #T_bf496_row1_col5, #T_bf496_row1_col6, #T_bf496_row1_col7 {\n",
       "  color: black;\n",
       "  background-color: #ffadad;\n",
       "}\n",
       "#T_bf496_row2_col0, #T_bf496_row2_col1, #T_bf496_row2_col2, #T_bf496_row2_col3, #T_bf496_row2_col4, #T_bf496_row2_col5, #T_bf496_row2_col6, #T_bf496_row2_col7, #T_bf496_row3_col0, #T_bf496_row3_col1, #T_bf496_row3_col2, #T_bf496_row3_col4, #T_bf496_row3_col5, #T_bf496_row3_col6, #T_bf496_row3_col7, #T_bf496_row4_col0, #T_bf496_row4_col1, #T_bf496_row4_col2, #T_bf496_row4_col3, #T_bf496_row4_col4, #T_bf496_row4_col5, #T_bf496_row4_col6, #T_bf496_row4_col7, #T_bf496_row5_col0, #T_bf496_row5_col1, #T_bf496_row5_col2, #T_bf496_row5_col3, #T_bf496_row5_col4, #T_bf496_row5_col5, #T_bf496_row5_col6, #T_bf496_row5_col7, #T_bf496_row7_col1 {\n",
       "  color: beige;\n",
       "  background-color: beige;\n",
       "}\n",
       "#T_bf496_row3_col3, #T_bf496_row6_col0, #T_bf496_row6_col1, #T_bf496_row6_col2, #T_bf496_row6_col3, #T_bf496_row6_col4, #T_bf496_row6_col5, #T_bf496_row6_col6, #T_bf496_row6_col7, #T_bf496_row7_col0, #T_bf496_row7_col2, #T_bf496_row7_col3, #T_bf496_row7_col4, #T_bf496_row7_col5, #T_bf496_row7_col6, #T_bf496_row7_col7 {\n",
       "  color: black;\n",
       "  background-color: #ade9ff;\n",
       "}\n",
       "</style>\n",
       "<table id=\"T_bf496\">\n",
       "  <thead>\n",
       "    <tr>\n",
       "      <th class=\"blank level0\" >&nbsp;</th>\n",
       "      <th id=\"T_bf496_level0_col0\" class=\"col_heading level0 col0\" >0</th>\n",
       "      <th id=\"T_bf496_level0_col1\" class=\"col_heading level0 col1\" >1</th>\n",
       "      <th id=\"T_bf496_level0_col2\" class=\"col_heading level0 col2\" >2</th>\n",
       "      <th id=\"T_bf496_level0_col3\" class=\"col_heading level0 col3\" >3</th>\n",
       "      <th id=\"T_bf496_level0_col4\" class=\"col_heading level0 col4\" >4</th>\n",
       "      <th id=\"T_bf496_level0_col5\" class=\"col_heading level0 col5\" >5</th>\n",
       "      <th id=\"T_bf496_level0_col6\" class=\"col_heading level0 col6\" >6</th>\n",
       "      <th id=\"T_bf496_level0_col7\" class=\"col_heading level0 col7\" >7</th>\n",
       "    </tr>\n",
       "  </thead>\n",
       "  <tbody>\n",
       "    <tr>\n",
       "      <th id=\"T_bf496_level0_row0\" class=\"row_heading level0 row0\" >0</th>\n",
       "      <td id=\"T_bf496_row0_col0\" class=\"data row0 col0\" >Rr</td>\n",
       "      <td id=\"T_bf496_row0_col1\" class=\"data row0 col1\" >Nr</td>\n",
       "      <td id=\"T_bf496_row0_col2\" class=\"data row0 col2\" >Br</td>\n",
       "      <td id=\"T_bf496_row0_col3\" class=\"data row0 col3\" >Qr</td>\n",
       "      <td id=\"T_bf496_row0_col4\" class=\"data row0 col4\" >Kr</td>\n",
       "      <td id=\"T_bf496_row0_col5\" class=\"data row0 col5\" >Br</td>\n",
       "      <td id=\"T_bf496_row0_col6\" class=\"data row0 col6\" >Nr</td>\n",
       "      <td id=\"T_bf496_row0_col7\" class=\"data row0 col7\" >Rr</td>\n",
       "    </tr>\n",
       "    <tr>\n",
       "      <th id=\"T_bf496_level0_row1\" class=\"row_heading level0 row1\" >1</th>\n",
       "      <td id=\"T_bf496_row1_col0\" class=\"data row1 col0\" >Pr</td>\n",
       "      <td id=\"T_bf496_row1_col1\" class=\"data row1 col1\" >Pr</td>\n",
       "      <td id=\"T_bf496_row1_col2\" class=\"data row1 col2\" >Pr</td>\n",
       "      <td id=\"T_bf496_row1_col3\" class=\"data row1 col3\" >Pr</td>\n",
       "      <td id=\"T_bf496_row1_col4\" class=\"data row1 col4\" >Pr</td>\n",
       "      <td id=\"T_bf496_row1_col5\" class=\"data row1 col5\" >Pr</td>\n",
       "      <td id=\"T_bf496_row1_col6\" class=\"data row1 col6\" >Pr</td>\n",
       "      <td id=\"T_bf496_row1_col7\" class=\"data row1 col7\" >Pr</td>\n",
       "    </tr>\n",
       "    <tr>\n",
       "      <th id=\"T_bf496_level0_row2\" class=\"row_heading level0 row2\" >2</th>\n",
       "      <td id=\"T_bf496_row2_col0\" class=\"data row2 col0\" ></td>\n",
       "      <td id=\"T_bf496_row2_col1\" class=\"data row2 col1\" ></td>\n",
       "      <td id=\"T_bf496_row2_col2\" class=\"data row2 col2\" ></td>\n",
       "      <td id=\"T_bf496_row2_col3\" class=\"data row2 col3\" ></td>\n",
       "      <td id=\"T_bf496_row2_col4\" class=\"data row2 col4\" ></td>\n",
       "      <td id=\"T_bf496_row2_col5\" class=\"data row2 col5\" ></td>\n",
       "      <td id=\"T_bf496_row2_col6\" class=\"data row2 col6\" ></td>\n",
       "      <td id=\"T_bf496_row2_col7\" class=\"data row2 col7\" ></td>\n",
       "    </tr>\n",
       "    <tr>\n",
       "      <th id=\"T_bf496_level0_row3\" class=\"row_heading level0 row3\" >3</th>\n",
       "      <td id=\"T_bf496_row3_col0\" class=\"data row3 col0\" ></td>\n",
       "      <td id=\"T_bf496_row3_col1\" class=\"data row3 col1\" ></td>\n",
       "      <td id=\"T_bf496_row3_col2\" class=\"data row3 col2\" ></td>\n",
       "      <td id=\"T_bf496_row3_col3\" class=\"data row3 col3\" >Nb</td>\n",
       "      <td id=\"T_bf496_row3_col4\" class=\"data row3 col4\" ></td>\n",
       "      <td id=\"T_bf496_row3_col5\" class=\"data row3 col5\" ></td>\n",
       "      <td id=\"T_bf496_row3_col6\" class=\"data row3 col6\" ></td>\n",
       "      <td id=\"T_bf496_row3_col7\" class=\"data row3 col7\" ></td>\n",
       "    </tr>\n",
       "    <tr>\n",
       "      <th id=\"T_bf496_level0_row4\" class=\"row_heading level0 row4\" >4</th>\n",
       "      <td id=\"T_bf496_row4_col0\" class=\"data row4 col0\" ></td>\n",
       "      <td id=\"T_bf496_row4_col1\" class=\"data row4 col1\" ></td>\n",
       "      <td id=\"T_bf496_row4_col2\" class=\"data row4 col2\" ></td>\n",
       "      <td id=\"T_bf496_row4_col3\" class=\"data row4 col3\" ></td>\n",
       "      <td id=\"T_bf496_row4_col4\" class=\"data row4 col4\" ></td>\n",
       "      <td id=\"T_bf496_row4_col5\" class=\"data row4 col5\" ></td>\n",
       "      <td id=\"T_bf496_row4_col6\" class=\"data row4 col6\" ></td>\n",
       "      <td id=\"T_bf496_row4_col7\" class=\"data row4 col7\" ></td>\n",
       "    </tr>\n",
       "    <tr>\n",
       "      <th id=\"T_bf496_level0_row5\" class=\"row_heading level0 row5\" >5</th>\n",
       "      <td id=\"T_bf496_row5_col0\" class=\"data row5 col0\" ></td>\n",
       "      <td id=\"T_bf496_row5_col1\" class=\"data row5 col1\" ></td>\n",
       "      <td id=\"T_bf496_row5_col2\" class=\"data row5 col2\" ></td>\n",
       "      <td id=\"T_bf496_row5_col3\" class=\"data row5 col3\" ></td>\n",
       "      <td id=\"T_bf496_row5_col4\" class=\"data row5 col4\" ></td>\n",
       "      <td id=\"T_bf496_row5_col5\" class=\"data row5 col5\" ></td>\n",
       "      <td id=\"T_bf496_row5_col6\" class=\"data row5 col6\" ></td>\n",
       "      <td id=\"T_bf496_row5_col7\" class=\"data row5 col7\" ></td>\n",
       "    </tr>\n",
       "    <tr>\n",
       "      <th id=\"T_bf496_level0_row6\" class=\"row_heading level0 row6\" >6</th>\n",
       "      <td id=\"T_bf496_row6_col0\" class=\"data row6 col0\" >Pb</td>\n",
       "      <td id=\"T_bf496_row6_col1\" class=\"data row6 col1\" >Pb</td>\n",
       "      <td id=\"T_bf496_row6_col2\" class=\"data row6 col2\" >Pb</td>\n",
       "      <td id=\"T_bf496_row6_col3\" class=\"data row6 col3\" >Pb</td>\n",
       "      <td id=\"T_bf496_row6_col4\" class=\"data row6 col4\" >Pb</td>\n",
       "      <td id=\"T_bf496_row6_col5\" class=\"data row6 col5\" >Pb</td>\n",
       "      <td id=\"T_bf496_row6_col6\" class=\"data row6 col6\" >Pb</td>\n",
       "      <td id=\"T_bf496_row6_col7\" class=\"data row6 col7\" >Pb</td>\n",
       "    </tr>\n",
       "    <tr>\n",
       "      <th id=\"T_bf496_level0_row7\" class=\"row_heading level0 row7\" >7</th>\n",
       "      <td id=\"T_bf496_row7_col0\" class=\"data row7 col0\" >Rb</td>\n",
       "      <td id=\"T_bf496_row7_col1\" class=\"data row7 col1\" ></td>\n",
       "      <td id=\"T_bf496_row7_col2\" class=\"data row7 col2\" >Bb</td>\n",
       "      <td id=\"T_bf496_row7_col3\" class=\"data row7 col3\" >Qb</td>\n",
       "      <td id=\"T_bf496_row7_col4\" class=\"data row7 col4\" >Kb</td>\n",
       "      <td id=\"T_bf496_row7_col5\" class=\"data row7 col5\" >Bb</td>\n",
       "      <td id=\"T_bf496_row7_col6\" class=\"data row7 col6\" >Nb</td>\n",
       "      <td id=\"T_bf496_row7_col7\" class=\"data row7 col7\" >Rb</td>\n",
       "    </tr>\n",
       "  </tbody>\n",
       "</table>\n"
      ],
      "text/plain": [
       "<pandas.io.formats.style.Styler at 0x1fb2766ac40>"
      ]
     },
     "metadata": {},
     "output_type": "display_data"
    }
   ],
   "source": [
    "obs.undo()\n",
    "obs.display_board()"
   ]
  },
  {
   "cell_type": "markdown",
   "metadata": {},
   "source": [
    "<span style='color:blue'>Alternativamente, podemos usar el método `move_piece` para hacer movimientos de piezas pasando como argumento solo la posición inicial y final"
   ]
  },
  {
   "cell_type": "code",
   "execution_count": 33,
   "metadata": {
    "scrolled": true
   },
   "outputs": [
    {
     "name": "stdout",
     "output_type": "stream",
     "text": [
      "El caballo de (0, 6) se ha movido a (2, 5)\n"
     ]
    },
    {
     "data": {
      "text/html": [
       "<style type=\"text/css\">\n",
       "#T_29073 * {\n",
       "  background-color: beige;\n",
       "  border-color: black;\n",
       "  border-width: 1px;\n",
       "  border-style: solid;\n",
       "  width: 30px;\n",
       "  text-align: center;\n",
       "}\n",
       "#T_29073 th {\n",
       "  background-color: #ffe3a9;\n",
       "}\n",
       "#T_29073_row0_col0, #T_29073_row0_col1, #T_29073_row0_col2, #T_29073_row0_col3, #T_29073_row0_col4, #T_29073_row0_col5, #T_29073_row0_col7, #T_29073_row1_col0, #T_29073_row1_col1, #T_29073_row1_col2, #T_29073_row1_col3, #T_29073_row1_col4, #T_29073_row1_col5, #T_29073_row1_col6, #T_29073_row1_col7, #T_29073_row2_col5 {\n",
       "  color: black;\n",
       "  background-color: #ffadad;\n",
       "}\n",
       "#T_29073_row0_col6, #T_29073_row2_col0, #T_29073_row2_col1, #T_29073_row2_col2, #T_29073_row2_col3, #T_29073_row2_col4, #T_29073_row2_col6, #T_29073_row2_col7, #T_29073_row3_col0, #T_29073_row3_col1, #T_29073_row3_col2, #T_29073_row3_col4, #T_29073_row3_col5, #T_29073_row3_col6, #T_29073_row3_col7, #T_29073_row4_col0, #T_29073_row4_col1, #T_29073_row4_col2, #T_29073_row4_col3, #T_29073_row4_col4, #T_29073_row4_col5, #T_29073_row4_col6, #T_29073_row4_col7, #T_29073_row5_col0, #T_29073_row5_col1, #T_29073_row5_col2, #T_29073_row5_col3, #T_29073_row5_col4, #T_29073_row5_col5, #T_29073_row5_col6, #T_29073_row5_col7, #T_29073_row7_col1 {\n",
       "  color: beige;\n",
       "  background-color: beige;\n",
       "}\n",
       "#T_29073_row3_col3, #T_29073_row6_col0, #T_29073_row6_col1, #T_29073_row6_col2, #T_29073_row6_col3, #T_29073_row6_col4, #T_29073_row6_col5, #T_29073_row6_col6, #T_29073_row6_col7, #T_29073_row7_col0, #T_29073_row7_col2, #T_29073_row7_col3, #T_29073_row7_col4, #T_29073_row7_col5, #T_29073_row7_col6, #T_29073_row7_col7 {\n",
       "  color: black;\n",
       "  background-color: #ade9ff;\n",
       "}\n",
       "</style>\n",
       "<table id=\"T_29073\">\n",
       "  <thead>\n",
       "    <tr>\n",
       "      <th class=\"blank level0\" >&nbsp;</th>\n",
       "      <th id=\"T_29073_level0_col0\" class=\"col_heading level0 col0\" >0</th>\n",
       "      <th id=\"T_29073_level0_col1\" class=\"col_heading level0 col1\" >1</th>\n",
       "      <th id=\"T_29073_level0_col2\" class=\"col_heading level0 col2\" >2</th>\n",
       "      <th id=\"T_29073_level0_col3\" class=\"col_heading level0 col3\" >3</th>\n",
       "      <th id=\"T_29073_level0_col4\" class=\"col_heading level0 col4\" >4</th>\n",
       "      <th id=\"T_29073_level0_col5\" class=\"col_heading level0 col5\" >5</th>\n",
       "      <th id=\"T_29073_level0_col6\" class=\"col_heading level0 col6\" >6</th>\n",
       "      <th id=\"T_29073_level0_col7\" class=\"col_heading level0 col7\" >7</th>\n",
       "    </tr>\n",
       "  </thead>\n",
       "  <tbody>\n",
       "    <tr>\n",
       "      <th id=\"T_29073_level0_row0\" class=\"row_heading level0 row0\" >0</th>\n",
       "      <td id=\"T_29073_row0_col0\" class=\"data row0 col0\" >Rr</td>\n",
       "      <td id=\"T_29073_row0_col1\" class=\"data row0 col1\" >Nr</td>\n",
       "      <td id=\"T_29073_row0_col2\" class=\"data row0 col2\" >Br</td>\n",
       "      <td id=\"T_29073_row0_col3\" class=\"data row0 col3\" >Qr</td>\n",
       "      <td id=\"T_29073_row0_col4\" class=\"data row0 col4\" >Kr</td>\n",
       "      <td id=\"T_29073_row0_col5\" class=\"data row0 col5\" >Br</td>\n",
       "      <td id=\"T_29073_row0_col6\" class=\"data row0 col6\" ></td>\n",
       "      <td id=\"T_29073_row0_col7\" class=\"data row0 col7\" >Rr</td>\n",
       "    </tr>\n",
       "    <tr>\n",
       "      <th id=\"T_29073_level0_row1\" class=\"row_heading level0 row1\" >1</th>\n",
       "      <td id=\"T_29073_row1_col0\" class=\"data row1 col0\" >Pr</td>\n",
       "      <td id=\"T_29073_row1_col1\" class=\"data row1 col1\" >Pr</td>\n",
       "      <td id=\"T_29073_row1_col2\" class=\"data row1 col2\" >Pr</td>\n",
       "      <td id=\"T_29073_row1_col3\" class=\"data row1 col3\" >Pr</td>\n",
       "      <td id=\"T_29073_row1_col4\" class=\"data row1 col4\" >Pr</td>\n",
       "      <td id=\"T_29073_row1_col5\" class=\"data row1 col5\" >Pr</td>\n",
       "      <td id=\"T_29073_row1_col6\" class=\"data row1 col6\" >Pr</td>\n",
       "      <td id=\"T_29073_row1_col7\" class=\"data row1 col7\" >Pr</td>\n",
       "    </tr>\n",
       "    <tr>\n",
       "      <th id=\"T_29073_level0_row2\" class=\"row_heading level0 row2\" >2</th>\n",
       "      <td id=\"T_29073_row2_col0\" class=\"data row2 col0\" ></td>\n",
       "      <td id=\"T_29073_row2_col1\" class=\"data row2 col1\" ></td>\n",
       "      <td id=\"T_29073_row2_col2\" class=\"data row2 col2\" ></td>\n",
       "      <td id=\"T_29073_row2_col3\" class=\"data row2 col3\" ></td>\n",
       "      <td id=\"T_29073_row2_col4\" class=\"data row2 col4\" ></td>\n",
       "      <td id=\"T_29073_row2_col5\" class=\"data row2 col5\" >Nr</td>\n",
       "      <td id=\"T_29073_row2_col6\" class=\"data row2 col6\" ></td>\n",
       "      <td id=\"T_29073_row2_col7\" class=\"data row2 col7\" ></td>\n",
       "    </tr>\n",
       "    <tr>\n",
       "      <th id=\"T_29073_level0_row3\" class=\"row_heading level0 row3\" >3</th>\n",
       "      <td id=\"T_29073_row3_col0\" class=\"data row3 col0\" ></td>\n",
       "      <td id=\"T_29073_row3_col1\" class=\"data row3 col1\" ></td>\n",
       "      <td id=\"T_29073_row3_col2\" class=\"data row3 col2\" ></td>\n",
       "      <td id=\"T_29073_row3_col3\" class=\"data row3 col3\" >Nb</td>\n",
       "      <td id=\"T_29073_row3_col4\" class=\"data row3 col4\" ></td>\n",
       "      <td id=\"T_29073_row3_col5\" class=\"data row3 col5\" ></td>\n",
       "      <td id=\"T_29073_row3_col6\" class=\"data row3 col6\" ></td>\n",
       "      <td id=\"T_29073_row3_col7\" class=\"data row3 col7\" ></td>\n",
       "    </tr>\n",
       "    <tr>\n",
       "      <th id=\"T_29073_level0_row4\" class=\"row_heading level0 row4\" >4</th>\n",
       "      <td id=\"T_29073_row4_col0\" class=\"data row4 col0\" ></td>\n",
       "      <td id=\"T_29073_row4_col1\" class=\"data row4 col1\" ></td>\n",
       "      <td id=\"T_29073_row4_col2\" class=\"data row4 col2\" ></td>\n",
       "      <td id=\"T_29073_row4_col3\" class=\"data row4 col3\" ></td>\n",
       "      <td id=\"T_29073_row4_col4\" class=\"data row4 col4\" ></td>\n",
       "      <td id=\"T_29073_row4_col5\" class=\"data row4 col5\" ></td>\n",
       "      <td id=\"T_29073_row4_col6\" class=\"data row4 col6\" ></td>\n",
       "      <td id=\"T_29073_row4_col7\" class=\"data row4 col7\" ></td>\n",
       "    </tr>\n",
       "    <tr>\n",
       "      <th id=\"T_29073_level0_row5\" class=\"row_heading level0 row5\" >5</th>\n",
       "      <td id=\"T_29073_row5_col0\" class=\"data row5 col0\" ></td>\n",
       "      <td id=\"T_29073_row5_col1\" class=\"data row5 col1\" ></td>\n",
       "      <td id=\"T_29073_row5_col2\" class=\"data row5 col2\" ></td>\n",
       "      <td id=\"T_29073_row5_col3\" class=\"data row5 col3\" ></td>\n",
       "      <td id=\"T_29073_row5_col4\" class=\"data row5 col4\" ></td>\n",
       "      <td id=\"T_29073_row5_col5\" class=\"data row5 col5\" ></td>\n",
       "      <td id=\"T_29073_row5_col6\" class=\"data row5 col6\" ></td>\n",
       "      <td id=\"T_29073_row5_col7\" class=\"data row5 col7\" ></td>\n",
       "    </tr>\n",
       "    <tr>\n",
       "      <th id=\"T_29073_level0_row6\" class=\"row_heading level0 row6\" >6</th>\n",
       "      <td id=\"T_29073_row6_col0\" class=\"data row6 col0\" >Pb</td>\n",
       "      <td id=\"T_29073_row6_col1\" class=\"data row6 col1\" >Pb</td>\n",
       "      <td id=\"T_29073_row6_col2\" class=\"data row6 col2\" >Pb</td>\n",
       "      <td id=\"T_29073_row6_col3\" class=\"data row6 col3\" >Pb</td>\n",
       "      <td id=\"T_29073_row6_col4\" class=\"data row6 col4\" >Pb</td>\n",
       "      <td id=\"T_29073_row6_col5\" class=\"data row6 col5\" >Pb</td>\n",
       "      <td id=\"T_29073_row6_col6\" class=\"data row6 col6\" >Pb</td>\n",
       "      <td id=\"T_29073_row6_col7\" class=\"data row6 col7\" >Pb</td>\n",
       "    </tr>\n",
       "    <tr>\n",
       "      <th id=\"T_29073_level0_row7\" class=\"row_heading level0 row7\" >7</th>\n",
       "      <td id=\"T_29073_row7_col0\" class=\"data row7 col0\" >Rb</td>\n",
       "      <td id=\"T_29073_row7_col1\" class=\"data row7 col1\" ></td>\n",
       "      <td id=\"T_29073_row7_col2\" class=\"data row7 col2\" >Bb</td>\n",
       "      <td id=\"T_29073_row7_col3\" class=\"data row7 col3\" >Qb</td>\n",
       "      <td id=\"T_29073_row7_col4\" class=\"data row7 col4\" >Kb</td>\n",
       "      <td id=\"T_29073_row7_col5\" class=\"data row7 col5\" >Bb</td>\n",
       "      <td id=\"T_29073_row7_col6\" class=\"data row7 col6\" >Nb</td>\n",
       "      <td id=\"T_29073_row7_col7\" class=\"data row7 col7\" >Rb</td>\n",
       "    </tr>\n",
       "  </tbody>\n",
       "</table>\n"
      ],
      "text/plain": [
       "<pandas.io.formats.style.Styler at 0x1fb37b19730>"
      ]
     },
     "metadata": {},
     "output_type": "display_data"
    }
   ],
   "source": [
    "obs.move_piece((0, 6), (2, 5), info=True)\n",
    "obs.display_board()"
   ]
  },
  {
   "cell_type": "markdown",
   "metadata": {},
   "source": [
    "<span style='color:blue'>Probamos a capturar el caballo rojo y **se nos avisa de que se ha producido una situación de jaque!**"
   ]
  },
  {
   "cell_type": "code",
   "execution_count": 34,
   "metadata": {
    "scrolled": false
   },
   "outputs": [
    {
     "name": "stdout",
     "output_type": "stream",
     "text": [
      "El caballo de (3, 3) ha capturado el caballo de (2, 5)\n",
      "Check!\n"
     ]
    },
    {
     "data": {
      "text/html": [
       "<style type=\"text/css\">\n",
       "#T_bac79 * {\n",
       "  background-color: beige;\n",
       "  border-color: black;\n",
       "  border-width: 1px;\n",
       "  border-style: solid;\n",
       "  width: 30px;\n",
       "  text-align: center;\n",
       "}\n",
       "#T_bac79 th {\n",
       "  background-color: #ffe3a9;\n",
       "}\n",
       "#T_bac79_row0_col0, #T_bac79_row0_col1, #T_bac79_row0_col2, #T_bac79_row0_col3, #T_bac79_row0_col4, #T_bac79_row0_col5, #T_bac79_row0_col7, #T_bac79_row1_col0, #T_bac79_row1_col1, #T_bac79_row1_col2, #T_bac79_row1_col3, #T_bac79_row1_col4, #T_bac79_row1_col5, #T_bac79_row1_col6, #T_bac79_row1_col7 {\n",
       "  color: black;\n",
       "  background-color: #ffadad;\n",
       "}\n",
       "#T_bac79_row0_col6, #T_bac79_row2_col0, #T_bac79_row2_col1, #T_bac79_row2_col2, #T_bac79_row2_col3, #T_bac79_row2_col4, #T_bac79_row2_col6, #T_bac79_row2_col7, #T_bac79_row3_col0, #T_bac79_row3_col1, #T_bac79_row3_col2, #T_bac79_row3_col3, #T_bac79_row3_col4, #T_bac79_row3_col5, #T_bac79_row3_col6, #T_bac79_row3_col7, #T_bac79_row4_col0, #T_bac79_row4_col1, #T_bac79_row4_col2, #T_bac79_row4_col3, #T_bac79_row4_col4, #T_bac79_row4_col5, #T_bac79_row4_col6, #T_bac79_row4_col7, #T_bac79_row5_col0, #T_bac79_row5_col1, #T_bac79_row5_col2, #T_bac79_row5_col3, #T_bac79_row5_col4, #T_bac79_row5_col5, #T_bac79_row5_col6, #T_bac79_row5_col7, #T_bac79_row7_col1 {\n",
       "  color: beige;\n",
       "  background-color: beige;\n",
       "}\n",
       "#T_bac79_row2_col5, #T_bac79_row6_col0, #T_bac79_row6_col1, #T_bac79_row6_col2, #T_bac79_row6_col3, #T_bac79_row6_col4, #T_bac79_row6_col5, #T_bac79_row6_col6, #T_bac79_row6_col7, #T_bac79_row7_col0, #T_bac79_row7_col2, #T_bac79_row7_col3, #T_bac79_row7_col4, #T_bac79_row7_col5, #T_bac79_row7_col6, #T_bac79_row7_col7 {\n",
       "  color: black;\n",
       "  background-color: #ade9ff;\n",
       "}\n",
       "</style>\n",
       "<table id=\"T_bac79\">\n",
       "  <thead>\n",
       "    <tr>\n",
       "      <th class=\"blank level0\" >&nbsp;</th>\n",
       "      <th id=\"T_bac79_level0_col0\" class=\"col_heading level0 col0\" >0</th>\n",
       "      <th id=\"T_bac79_level0_col1\" class=\"col_heading level0 col1\" >1</th>\n",
       "      <th id=\"T_bac79_level0_col2\" class=\"col_heading level0 col2\" >2</th>\n",
       "      <th id=\"T_bac79_level0_col3\" class=\"col_heading level0 col3\" >3</th>\n",
       "      <th id=\"T_bac79_level0_col4\" class=\"col_heading level0 col4\" >4</th>\n",
       "      <th id=\"T_bac79_level0_col5\" class=\"col_heading level0 col5\" >5</th>\n",
       "      <th id=\"T_bac79_level0_col6\" class=\"col_heading level0 col6\" >6</th>\n",
       "      <th id=\"T_bac79_level0_col7\" class=\"col_heading level0 col7\" >7</th>\n",
       "    </tr>\n",
       "  </thead>\n",
       "  <tbody>\n",
       "    <tr>\n",
       "      <th id=\"T_bac79_level0_row0\" class=\"row_heading level0 row0\" >0</th>\n",
       "      <td id=\"T_bac79_row0_col0\" class=\"data row0 col0\" >Rr</td>\n",
       "      <td id=\"T_bac79_row0_col1\" class=\"data row0 col1\" >Nr</td>\n",
       "      <td id=\"T_bac79_row0_col2\" class=\"data row0 col2\" >Br</td>\n",
       "      <td id=\"T_bac79_row0_col3\" class=\"data row0 col3\" >Qr</td>\n",
       "      <td id=\"T_bac79_row0_col4\" class=\"data row0 col4\" >Kr</td>\n",
       "      <td id=\"T_bac79_row0_col5\" class=\"data row0 col5\" >Br</td>\n",
       "      <td id=\"T_bac79_row0_col6\" class=\"data row0 col6\" ></td>\n",
       "      <td id=\"T_bac79_row0_col7\" class=\"data row0 col7\" >Rr</td>\n",
       "    </tr>\n",
       "    <tr>\n",
       "      <th id=\"T_bac79_level0_row1\" class=\"row_heading level0 row1\" >1</th>\n",
       "      <td id=\"T_bac79_row1_col0\" class=\"data row1 col0\" >Pr</td>\n",
       "      <td id=\"T_bac79_row1_col1\" class=\"data row1 col1\" >Pr</td>\n",
       "      <td id=\"T_bac79_row1_col2\" class=\"data row1 col2\" >Pr</td>\n",
       "      <td id=\"T_bac79_row1_col3\" class=\"data row1 col3\" >Pr</td>\n",
       "      <td id=\"T_bac79_row1_col4\" class=\"data row1 col4\" >Pr</td>\n",
       "      <td id=\"T_bac79_row1_col5\" class=\"data row1 col5\" >Pr</td>\n",
       "      <td id=\"T_bac79_row1_col6\" class=\"data row1 col6\" >Pr</td>\n",
       "      <td id=\"T_bac79_row1_col7\" class=\"data row1 col7\" >Pr</td>\n",
       "    </tr>\n",
       "    <tr>\n",
       "      <th id=\"T_bac79_level0_row2\" class=\"row_heading level0 row2\" >2</th>\n",
       "      <td id=\"T_bac79_row2_col0\" class=\"data row2 col0\" ></td>\n",
       "      <td id=\"T_bac79_row2_col1\" class=\"data row2 col1\" ></td>\n",
       "      <td id=\"T_bac79_row2_col2\" class=\"data row2 col2\" ></td>\n",
       "      <td id=\"T_bac79_row2_col3\" class=\"data row2 col3\" ></td>\n",
       "      <td id=\"T_bac79_row2_col4\" class=\"data row2 col4\" ></td>\n",
       "      <td id=\"T_bac79_row2_col5\" class=\"data row2 col5\" >Nb</td>\n",
       "      <td id=\"T_bac79_row2_col6\" class=\"data row2 col6\" ></td>\n",
       "      <td id=\"T_bac79_row2_col7\" class=\"data row2 col7\" ></td>\n",
       "    </tr>\n",
       "    <tr>\n",
       "      <th id=\"T_bac79_level0_row3\" class=\"row_heading level0 row3\" >3</th>\n",
       "      <td id=\"T_bac79_row3_col0\" class=\"data row3 col0\" ></td>\n",
       "      <td id=\"T_bac79_row3_col1\" class=\"data row3 col1\" ></td>\n",
       "      <td id=\"T_bac79_row3_col2\" class=\"data row3 col2\" ></td>\n",
       "      <td id=\"T_bac79_row3_col3\" class=\"data row3 col3\" ></td>\n",
       "      <td id=\"T_bac79_row3_col4\" class=\"data row3 col4\" ></td>\n",
       "      <td id=\"T_bac79_row3_col5\" class=\"data row3 col5\" ></td>\n",
       "      <td id=\"T_bac79_row3_col6\" class=\"data row3 col6\" ></td>\n",
       "      <td id=\"T_bac79_row3_col7\" class=\"data row3 col7\" ></td>\n",
       "    </tr>\n",
       "    <tr>\n",
       "      <th id=\"T_bac79_level0_row4\" class=\"row_heading level0 row4\" >4</th>\n",
       "      <td id=\"T_bac79_row4_col0\" class=\"data row4 col0\" ></td>\n",
       "      <td id=\"T_bac79_row4_col1\" class=\"data row4 col1\" ></td>\n",
       "      <td id=\"T_bac79_row4_col2\" class=\"data row4 col2\" ></td>\n",
       "      <td id=\"T_bac79_row4_col3\" class=\"data row4 col3\" ></td>\n",
       "      <td id=\"T_bac79_row4_col4\" class=\"data row4 col4\" ></td>\n",
       "      <td id=\"T_bac79_row4_col5\" class=\"data row4 col5\" ></td>\n",
       "      <td id=\"T_bac79_row4_col6\" class=\"data row4 col6\" ></td>\n",
       "      <td id=\"T_bac79_row4_col7\" class=\"data row4 col7\" ></td>\n",
       "    </tr>\n",
       "    <tr>\n",
       "      <th id=\"T_bac79_level0_row5\" class=\"row_heading level0 row5\" >5</th>\n",
       "      <td id=\"T_bac79_row5_col0\" class=\"data row5 col0\" ></td>\n",
       "      <td id=\"T_bac79_row5_col1\" class=\"data row5 col1\" ></td>\n",
       "      <td id=\"T_bac79_row5_col2\" class=\"data row5 col2\" ></td>\n",
       "      <td id=\"T_bac79_row5_col3\" class=\"data row5 col3\" ></td>\n",
       "      <td id=\"T_bac79_row5_col4\" class=\"data row5 col4\" ></td>\n",
       "      <td id=\"T_bac79_row5_col5\" class=\"data row5 col5\" ></td>\n",
       "      <td id=\"T_bac79_row5_col6\" class=\"data row5 col6\" ></td>\n",
       "      <td id=\"T_bac79_row5_col7\" class=\"data row5 col7\" ></td>\n",
       "    </tr>\n",
       "    <tr>\n",
       "      <th id=\"T_bac79_level0_row6\" class=\"row_heading level0 row6\" >6</th>\n",
       "      <td id=\"T_bac79_row6_col0\" class=\"data row6 col0\" >Pb</td>\n",
       "      <td id=\"T_bac79_row6_col1\" class=\"data row6 col1\" >Pb</td>\n",
       "      <td id=\"T_bac79_row6_col2\" class=\"data row6 col2\" >Pb</td>\n",
       "      <td id=\"T_bac79_row6_col3\" class=\"data row6 col3\" >Pb</td>\n",
       "      <td id=\"T_bac79_row6_col4\" class=\"data row6 col4\" >Pb</td>\n",
       "      <td id=\"T_bac79_row6_col5\" class=\"data row6 col5\" >Pb</td>\n",
       "      <td id=\"T_bac79_row6_col6\" class=\"data row6 col6\" >Pb</td>\n",
       "      <td id=\"T_bac79_row6_col7\" class=\"data row6 col7\" >Pb</td>\n",
       "    </tr>\n",
       "    <tr>\n",
       "      <th id=\"T_bac79_level0_row7\" class=\"row_heading level0 row7\" >7</th>\n",
       "      <td id=\"T_bac79_row7_col0\" class=\"data row7 col0\" >Rb</td>\n",
       "      <td id=\"T_bac79_row7_col1\" class=\"data row7 col1\" ></td>\n",
       "      <td id=\"T_bac79_row7_col2\" class=\"data row7 col2\" >Bb</td>\n",
       "      <td id=\"T_bac79_row7_col3\" class=\"data row7 col3\" >Qb</td>\n",
       "      <td id=\"T_bac79_row7_col4\" class=\"data row7 col4\" >Kb</td>\n",
       "      <td id=\"T_bac79_row7_col5\" class=\"data row7 col5\" >Bb</td>\n",
       "      <td id=\"T_bac79_row7_col6\" class=\"data row7 col6\" >Nb</td>\n",
       "      <td id=\"T_bac79_row7_col7\" class=\"data row7 col7\" >Rb</td>\n",
       "    </tr>\n",
       "  </tbody>\n",
       "</table>\n"
      ],
      "text/plain": [
       "<pandas.io.formats.style.Styler at 0x1fb2766ad00>"
      ]
     },
     "metadata": {},
     "output_type": "display_data"
    }
   ],
   "source": [
    "obs.move_piece((3, 3), (2, 5), info=True)\n",
    "obs.display_board()"
   ]
  },
  {
   "cell_type": "markdown",
   "metadata": {},
   "source": [
    "<span style='color:blue'>Si ahora por ejemplo seleccionamos al peón rojo de (1, 6) solo tiene un movimiento legal: comerse al caballo que está dando jaque :P"
   ]
  },
  {
   "cell_type": "code",
   "execution_count": 35,
   "metadata": {},
   "outputs": [
    {
     "data": {
      "text/plain": [
       "[(2, 5)]"
      ]
     },
     "execution_count": 35,
     "metadata": {},
     "output_type": "execute_result"
    }
   ],
   "source": [
    "peoncito = obs.pieces['Pr16']\n",
    "peoncito.legal_moves"
   ]
  },
  {
   "cell_type": "markdown",
   "metadata": {},
   "source": [
    "<span style='color:blue'>Vamos a probar a recrear el popular jaque mate pastor para cerciorarnos de que el jaque mate también se detecta correctamente"
   ]
  },
  {
   "cell_type": "code",
   "execution_count": 36,
   "metadata": {},
   "outputs": [
    {
     "data": {
      "text/html": [
       "<style type=\"text/css\">\n",
       "#T_6a261 * {\n",
       "  background-color: beige;\n",
       "  border-color: black;\n",
       "  border-width: 1px;\n",
       "  border-style: solid;\n",
       "  width: 30px;\n",
       "  text-align: center;\n",
       "}\n",
       "#T_6a261 th {\n",
       "  background-color: #ffe3a9;\n",
       "}\n",
       "#T_6a261_row0_col0, #T_6a261_row0_col2, #T_6a261_row0_col3, #T_6a261_row0_col4, #T_6a261_row0_col5, #T_6a261_row0_col7, #T_6a261_row1_col0, #T_6a261_row1_col1, #T_6a261_row1_col2, #T_6a261_row1_col3, #T_6a261_row1_col5, #T_6a261_row1_col6, #T_6a261_row1_col7, #T_6a261_row2_col2, #T_6a261_row2_col5, #T_6a261_row3_col4 {\n",
       "  color: black;\n",
       "  background-color: #ffadad;\n",
       "}\n",
       "#T_6a261_row0_col1, #T_6a261_row0_col6, #T_6a261_row1_col4, #T_6a261_row2_col0, #T_6a261_row2_col1, #T_6a261_row2_col3, #T_6a261_row2_col4, #T_6a261_row2_col6, #T_6a261_row2_col7, #T_6a261_row3_col0, #T_6a261_row3_col1, #T_6a261_row3_col2, #T_6a261_row3_col3, #T_6a261_row3_col5, #T_6a261_row3_col6, #T_6a261_row4_col0, #T_6a261_row4_col1, #T_6a261_row4_col3, #T_6a261_row4_col5, #T_6a261_row4_col6, #T_6a261_row4_col7, #T_6a261_row5_col0, #T_6a261_row5_col1, #T_6a261_row5_col2, #T_6a261_row5_col3, #T_6a261_row5_col4, #T_6a261_row5_col5, #T_6a261_row5_col6, #T_6a261_row5_col7, #T_6a261_row6_col4, #T_6a261_row7_col3, #T_6a261_row7_col5 {\n",
       "  color: beige;\n",
       "  background-color: beige;\n",
       "}\n",
       "#T_6a261_row3_col7, #T_6a261_row4_col2, #T_6a261_row4_col4, #T_6a261_row6_col0, #T_6a261_row6_col1, #T_6a261_row6_col2, #T_6a261_row6_col3, #T_6a261_row6_col5, #T_6a261_row6_col6, #T_6a261_row6_col7, #T_6a261_row7_col0, #T_6a261_row7_col1, #T_6a261_row7_col2, #T_6a261_row7_col4, #T_6a261_row7_col6, #T_6a261_row7_col7 {\n",
       "  color: black;\n",
       "  background-color: #ade9ff;\n",
       "}\n",
       "</style>\n",
       "<table id=\"T_6a261\">\n",
       "  <thead>\n",
       "    <tr>\n",
       "      <th class=\"blank level0\" >&nbsp;</th>\n",
       "      <th id=\"T_6a261_level0_col0\" class=\"col_heading level0 col0\" >0</th>\n",
       "      <th id=\"T_6a261_level0_col1\" class=\"col_heading level0 col1\" >1</th>\n",
       "      <th id=\"T_6a261_level0_col2\" class=\"col_heading level0 col2\" >2</th>\n",
       "      <th id=\"T_6a261_level0_col3\" class=\"col_heading level0 col3\" >3</th>\n",
       "      <th id=\"T_6a261_level0_col4\" class=\"col_heading level0 col4\" >4</th>\n",
       "      <th id=\"T_6a261_level0_col5\" class=\"col_heading level0 col5\" >5</th>\n",
       "      <th id=\"T_6a261_level0_col6\" class=\"col_heading level0 col6\" >6</th>\n",
       "      <th id=\"T_6a261_level0_col7\" class=\"col_heading level0 col7\" >7</th>\n",
       "    </tr>\n",
       "  </thead>\n",
       "  <tbody>\n",
       "    <tr>\n",
       "      <th id=\"T_6a261_level0_row0\" class=\"row_heading level0 row0\" >0</th>\n",
       "      <td id=\"T_6a261_row0_col0\" class=\"data row0 col0\" >Rr</td>\n",
       "      <td id=\"T_6a261_row0_col1\" class=\"data row0 col1\" ></td>\n",
       "      <td id=\"T_6a261_row0_col2\" class=\"data row0 col2\" >Br</td>\n",
       "      <td id=\"T_6a261_row0_col3\" class=\"data row0 col3\" >Qr</td>\n",
       "      <td id=\"T_6a261_row0_col4\" class=\"data row0 col4\" >Kr</td>\n",
       "      <td id=\"T_6a261_row0_col5\" class=\"data row0 col5\" >Br</td>\n",
       "      <td id=\"T_6a261_row0_col6\" class=\"data row0 col6\" ></td>\n",
       "      <td id=\"T_6a261_row0_col7\" class=\"data row0 col7\" >Rr</td>\n",
       "    </tr>\n",
       "    <tr>\n",
       "      <th id=\"T_6a261_level0_row1\" class=\"row_heading level0 row1\" >1</th>\n",
       "      <td id=\"T_6a261_row1_col0\" class=\"data row1 col0\" >Pr</td>\n",
       "      <td id=\"T_6a261_row1_col1\" class=\"data row1 col1\" >Pr</td>\n",
       "      <td id=\"T_6a261_row1_col2\" class=\"data row1 col2\" >Pr</td>\n",
       "      <td id=\"T_6a261_row1_col3\" class=\"data row1 col3\" >Pr</td>\n",
       "      <td id=\"T_6a261_row1_col4\" class=\"data row1 col4\" ></td>\n",
       "      <td id=\"T_6a261_row1_col5\" class=\"data row1 col5\" >Pr</td>\n",
       "      <td id=\"T_6a261_row1_col6\" class=\"data row1 col6\" >Pr</td>\n",
       "      <td id=\"T_6a261_row1_col7\" class=\"data row1 col7\" >Pr</td>\n",
       "    </tr>\n",
       "    <tr>\n",
       "      <th id=\"T_6a261_level0_row2\" class=\"row_heading level0 row2\" >2</th>\n",
       "      <td id=\"T_6a261_row2_col0\" class=\"data row2 col0\" ></td>\n",
       "      <td id=\"T_6a261_row2_col1\" class=\"data row2 col1\" ></td>\n",
       "      <td id=\"T_6a261_row2_col2\" class=\"data row2 col2\" >Nr</td>\n",
       "      <td id=\"T_6a261_row2_col3\" class=\"data row2 col3\" ></td>\n",
       "      <td id=\"T_6a261_row2_col4\" class=\"data row2 col4\" ></td>\n",
       "      <td id=\"T_6a261_row2_col5\" class=\"data row2 col5\" >Nr</td>\n",
       "      <td id=\"T_6a261_row2_col6\" class=\"data row2 col6\" ></td>\n",
       "      <td id=\"T_6a261_row2_col7\" class=\"data row2 col7\" ></td>\n",
       "    </tr>\n",
       "    <tr>\n",
       "      <th id=\"T_6a261_level0_row3\" class=\"row_heading level0 row3\" >3</th>\n",
       "      <td id=\"T_6a261_row3_col0\" class=\"data row3 col0\" ></td>\n",
       "      <td id=\"T_6a261_row3_col1\" class=\"data row3 col1\" ></td>\n",
       "      <td id=\"T_6a261_row3_col2\" class=\"data row3 col2\" ></td>\n",
       "      <td id=\"T_6a261_row3_col3\" class=\"data row3 col3\" ></td>\n",
       "      <td id=\"T_6a261_row3_col4\" class=\"data row3 col4\" >Pr</td>\n",
       "      <td id=\"T_6a261_row3_col5\" class=\"data row3 col5\" ></td>\n",
       "      <td id=\"T_6a261_row3_col6\" class=\"data row3 col6\" ></td>\n",
       "      <td id=\"T_6a261_row3_col7\" class=\"data row3 col7\" >Qb</td>\n",
       "    </tr>\n",
       "    <tr>\n",
       "      <th id=\"T_6a261_level0_row4\" class=\"row_heading level0 row4\" >4</th>\n",
       "      <td id=\"T_6a261_row4_col0\" class=\"data row4 col0\" ></td>\n",
       "      <td id=\"T_6a261_row4_col1\" class=\"data row4 col1\" ></td>\n",
       "      <td id=\"T_6a261_row4_col2\" class=\"data row4 col2\" >Bb</td>\n",
       "      <td id=\"T_6a261_row4_col3\" class=\"data row4 col3\" ></td>\n",
       "      <td id=\"T_6a261_row4_col4\" class=\"data row4 col4\" >Pb</td>\n",
       "      <td id=\"T_6a261_row4_col5\" class=\"data row4 col5\" ></td>\n",
       "      <td id=\"T_6a261_row4_col6\" class=\"data row4 col6\" ></td>\n",
       "      <td id=\"T_6a261_row4_col7\" class=\"data row4 col7\" ></td>\n",
       "    </tr>\n",
       "    <tr>\n",
       "      <th id=\"T_6a261_level0_row5\" class=\"row_heading level0 row5\" >5</th>\n",
       "      <td id=\"T_6a261_row5_col0\" class=\"data row5 col0\" ></td>\n",
       "      <td id=\"T_6a261_row5_col1\" class=\"data row5 col1\" ></td>\n",
       "      <td id=\"T_6a261_row5_col2\" class=\"data row5 col2\" ></td>\n",
       "      <td id=\"T_6a261_row5_col3\" class=\"data row5 col3\" ></td>\n",
       "      <td id=\"T_6a261_row5_col4\" class=\"data row5 col4\" ></td>\n",
       "      <td id=\"T_6a261_row5_col5\" class=\"data row5 col5\" ></td>\n",
       "      <td id=\"T_6a261_row5_col6\" class=\"data row5 col6\" ></td>\n",
       "      <td id=\"T_6a261_row5_col7\" class=\"data row5 col7\" ></td>\n",
       "    </tr>\n",
       "    <tr>\n",
       "      <th id=\"T_6a261_level0_row6\" class=\"row_heading level0 row6\" >6</th>\n",
       "      <td id=\"T_6a261_row6_col0\" class=\"data row6 col0\" >Pb</td>\n",
       "      <td id=\"T_6a261_row6_col1\" class=\"data row6 col1\" >Pb</td>\n",
       "      <td id=\"T_6a261_row6_col2\" class=\"data row6 col2\" >Pb</td>\n",
       "      <td id=\"T_6a261_row6_col3\" class=\"data row6 col3\" >Pb</td>\n",
       "      <td id=\"T_6a261_row6_col4\" class=\"data row6 col4\" ></td>\n",
       "      <td id=\"T_6a261_row6_col5\" class=\"data row6 col5\" >Pb</td>\n",
       "      <td id=\"T_6a261_row6_col6\" class=\"data row6 col6\" >Pb</td>\n",
       "      <td id=\"T_6a261_row6_col7\" class=\"data row6 col7\" >Pb</td>\n",
       "    </tr>\n",
       "    <tr>\n",
       "      <th id=\"T_6a261_level0_row7\" class=\"row_heading level0 row7\" >7</th>\n",
       "      <td id=\"T_6a261_row7_col0\" class=\"data row7 col0\" >Rb</td>\n",
       "      <td id=\"T_6a261_row7_col1\" class=\"data row7 col1\" >Nb</td>\n",
       "      <td id=\"T_6a261_row7_col2\" class=\"data row7 col2\" >Bb</td>\n",
       "      <td id=\"T_6a261_row7_col3\" class=\"data row7 col3\" ></td>\n",
       "      <td id=\"T_6a261_row7_col4\" class=\"data row7 col4\" >Kb</td>\n",
       "      <td id=\"T_6a261_row7_col5\" class=\"data row7 col5\" ></td>\n",
       "      <td id=\"T_6a261_row7_col6\" class=\"data row7 col6\" >Nb</td>\n",
       "      <td id=\"T_6a261_row7_col7\" class=\"data row7 col7\" >Rb</td>\n",
       "    </tr>\n",
       "  </tbody>\n",
       "</table>\n"
      ],
      "text/plain": [
       "<pandas.io.formats.style.Styler at 0x1fb37b724f0>"
      ]
     },
     "metadata": {},
     "output_type": "display_data"
    },
    {
     "name": "stdout",
     "output_type": "stream",
     "text": [
      "Check mate!\n"
     ]
    },
    {
     "data": {
      "text/html": [
       "<style type=\"text/css\">\n",
       "#T_17407 * {\n",
       "  background-color: beige;\n",
       "  border-color: black;\n",
       "  border-width: 1px;\n",
       "  border-style: solid;\n",
       "  width: 30px;\n",
       "  text-align: center;\n",
       "}\n",
       "#T_17407 th {\n",
       "  background-color: #ffe3a9;\n",
       "}\n",
       "#T_17407_row0_col0, #T_17407_row0_col2, #T_17407_row0_col3, #T_17407_row0_col4, #T_17407_row0_col5, #T_17407_row0_col7, #T_17407_row1_col0, #T_17407_row1_col1, #T_17407_row1_col2, #T_17407_row1_col3, #T_17407_row1_col6, #T_17407_row1_col7, #T_17407_row2_col2, #T_17407_row2_col5, #T_17407_row3_col4 {\n",
       "  color: black;\n",
       "  background-color: #ffadad;\n",
       "}\n",
       "#T_17407_row0_col1, #T_17407_row0_col6, #T_17407_row1_col4, #T_17407_row2_col0, #T_17407_row2_col1, #T_17407_row2_col3, #T_17407_row2_col4, #T_17407_row2_col6, #T_17407_row2_col7, #T_17407_row3_col0, #T_17407_row3_col1, #T_17407_row3_col2, #T_17407_row3_col3, #T_17407_row3_col5, #T_17407_row3_col6, #T_17407_row3_col7, #T_17407_row4_col0, #T_17407_row4_col1, #T_17407_row4_col3, #T_17407_row4_col5, #T_17407_row4_col6, #T_17407_row4_col7, #T_17407_row5_col0, #T_17407_row5_col1, #T_17407_row5_col2, #T_17407_row5_col3, #T_17407_row5_col4, #T_17407_row5_col5, #T_17407_row5_col6, #T_17407_row5_col7, #T_17407_row6_col4, #T_17407_row7_col3, #T_17407_row7_col5 {\n",
       "  color: beige;\n",
       "  background-color: beige;\n",
       "}\n",
       "#T_17407_row1_col5, #T_17407_row4_col2, #T_17407_row4_col4, #T_17407_row6_col0, #T_17407_row6_col1, #T_17407_row6_col2, #T_17407_row6_col3, #T_17407_row6_col5, #T_17407_row6_col6, #T_17407_row6_col7, #T_17407_row7_col0, #T_17407_row7_col1, #T_17407_row7_col2, #T_17407_row7_col4, #T_17407_row7_col6, #T_17407_row7_col7 {\n",
       "  color: black;\n",
       "  background-color: #ade9ff;\n",
       "}\n",
       "</style>\n",
       "<table id=\"T_17407\">\n",
       "  <thead>\n",
       "    <tr>\n",
       "      <th class=\"blank level0\" >&nbsp;</th>\n",
       "      <th id=\"T_17407_level0_col0\" class=\"col_heading level0 col0\" >0</th>\n",
       "      <th id=\"T_17407_level0_col1\" class=\"col_heading level0 col1\" >1</th>\n",
       "      <th id=\"T_17407_level0_col2\" class=\"col_heading level0 col2\" >2</th>\n",
       "      <th id=\"T_17407_level0_col3\" class=\"col_heading level0 col3\" >3</th>\n",
       "      <th id=\"T_17407_level0_col4\" class=\"col_heading level0 col4\" >4</th>\n",
       "      <th id=\"T_17407_level0_col5\" class=\"col_heading level0 col5\" >5</th>\n",
       "      <th id=\"T_17407_level0_col6\" class=\"col_heading level0 col6\" >6</th>\n",
       "      <th id=\"T_17407_level0_col7\" class=\"col_heading level0 col7\" >7</th>\n",
       "    </tr>\n",
       "  </thead>\n",
       "  <tbody>\n",
       "    <tr>\n",
       "      <th id=\"T_17407_level0_row0\" class=\"row_heading level0 row0\" >0</th>\n",
       "      <td id=\"T_17407_row0_col0\" class=\"data row0 col0\" >Rr</td>\n",
       "      <td id=\"T_17407_row0_col1\" class=\"data row0 col1\" ></td>\n",
       "      <td id=\"T_17407_row0_col2\" class=\"data row0 col2\" >Br</td>\n",
       "      <td id=\"T_17407_row0_col3\" class=\"data row0 col3\" >Qr</td>\n",
       "      <td id=\"T_17407_row0_col4\" class=\"data row0 col4\" >Kr</td>\n",
       "      <td id=\"T_17407_row0_col5\" class=\"data row0 col5\" >Br</td>\n",
       "      <td id=\"T_17407_row0_col6\" class=\"data row0 col6\" ></td>\n",
       "      <td id=\"T_17407_row0_col7\" class=\"data row0 col7\" >Rr</td>\n",
       "    </tr>\n",
       "    <tr>\n",
       "      <th id=\"T_17407_level0_row1\" class=\"row_heading level0 row1\" >1</th>\n",
       "      <td id=\"T_17407_row1_col0\" class=\"data row1 col0\" >Pr</td>\n",
       "      <td id=\"T_17407_row1_col1\" class=\"data row1 col1\" >Pr</td>\n",
       "      <td id=\"T_17407_row1_col2\" class=\"data row1 col2\" >Pr</td>\n",
       "      <td id=\"T_17407_row1_col3\" class=\"data row1 col3\" >Pr</td>\n",
       "      <td id=\"T_17407_row1_col4\" class=\"data row1 col4\" ></td>\n",
       "      <td id=\"T_17407_row1_col5\" class=\"data row1 col5\" >Qb</td>\n",
       "      <td id=\"T_17407_row1_col6\" class=\"data row1 col6\" >Pr</td>\n",
       "      <td id=\"T_17407_row1_col7\" class=\"data row1 col7\" >Pr</td>\n",
       "    </tr>\n",
       "    <tr>\n",
       "      <th id=\"T_17407_level0_row2\" class=\"row_heading level0 row2\" >2</th>\n",
       "      <td id=\"T_17407_row2_col0\" class=\"data row2 col0\" ></td>\n",
       "      <td id=\"T_17407_row2_col1\" class=\"data row2 col1\" ></td>\n",
       "      <td id=\"T_17407_row2_col2\" class=\"data row2 col2\" >Nr</td>\n",
       "      <td id=\"T_17407_row2_col3\" class=\"data row2 col3\" ></td>\n",
       "      <td id=\"T_17407_row2_col4\" class=\"data row2 col4\" ></td>\n",
       "      <td id=\"T_17407_row2_col5\" class=\"data row2 col5\" >Nr</td>\n",
       "      <td id=\"T_17407_row2_col6\" class=\"data row2 col6\" ></td>\n",
       "      <td id=\"T_17407_row2_col7\" class=\"data row2 col7\" ></td>\n",
       "    </tr>\n",
       "    <tr>\n",
       "      <th id=\"T_17407_level0_row3\" class=\"row_heading level0 row3\" >3</th>\n",
       "      <td id=\"T_17407_row3_col0\" class=\"data row3 col0\" ></td>\n",
       "      <td id=\"T_17407_row3_col1\" class=\"data row3 col1\" ></td>\n",
       "      <td id=\"T_17407_row3_col2\" class=\"data row3 col2\" ></td>\n",
       "      <td id=\"T_17407_row3_col3\" class=\"data row3 col3\" ></td>\n",
       "      <td id=\"T_17407_row3_col4\" class=\"data row3 col4\" >Pr</td>\n",
       "      <td id=\"T_17407_row3_col5\" class=\"data row3 col5\" ></td>\n",
       "      <td id=\"T_17407_row3_col6\" class=\"data row3 col6\" ></td>\n",
       "      <td id=\"T_17407_row3_col7\" class=\"data row3 col7\" ></td>\n",
       "    </tr>\n",
       "    <tr>\n",
       "      <th id=\"T_17407_level0_row4\" class=\"row_heading level0 row4\" >4</th>\n",
       "      <td id=\"T_17407_row4_col0\" class=\"data row4 col0\" ></td>\n",
       "      <td id=\"T_17407_row4_col1\" class=\"data row4 col1\" ></td>\n",
       "      <td id=\"T_17407_row4_col2\" class=\"data row4 col2\" >Bb</td>\n",
       "      <td id=\"T_17407_row4_col3\" class=\"data row4 col3\" ></td>\n",
       "      <td id=\"T_17407_row4_col4\" class=\"data row4 col4\" >Pb</td>\n",
       "      <td id=\"T_17407_row4_col5\" class=\"data row4 col5\" ></td>\n",
       "      <td id=\"T_17407_row4_col6\" class=\"data row4 col6\" ></td>\n",
       "      <td id=\"T_17407_row4_col7\" class=\"data row4 col7\" ></td>\n",
       "    </tr>\n",
       "    <tr>\n",
       "      <th id=\"T_17407_level0_row5\" class=\"row_heading level0 row5\" >5</th>\n",
       "      <td id=\"T_17407_row5_col0\" class=\"data row5 col0\" ></td>\n",
       "      <td id=\"T_17407_row5_col1\" class=\"data row5 col1\" ></td>\n",
       "      <td id=\"T_17407_row5_col2\" class=\"data row5 col2\" ></td>\n",
       "      <td id=\"T_17407_row5_col3\" class=\"data row5 col3\" ></td>\n",
       "      <td id=\"T_17407_row5_col4\" class=\"data row5 col4\" ></td>\n",
       "      <td id=\"T_17407_row5_col5\" class=\"data row5 col5\" ></td>\n",
       "      <td id=\"T_17407_row5_col6\" class=\"data row5 col6\" ></td>\n",
       "      <td id=\"T_17407_row5_col7\" class=\"data row5 col7\" ></td>\n",
       "    </tr>\n",
       "    <tr>\n",
       "      <th id=\"T_17407_level0_row6\" class=\"row_heading level0 row6\" >6</th>\n",
       "      <td id=\"T_17407_row6_col0\" class=\"data row6 col0\" >Pb</td>\n",
       "      <td id=\"T_17407_row6_col1\" class=\"data row6 col1\" >Pb</td>\n",
       "      <td id=\"T_17407_row6_col2\" class=\"data row6 col2\" >Pb</td>\n",
       "      <td id=\"T_17407_row6_col3\" class=\"data row6 col3\" >Pb</td>\n",
       "      <td id=\"T_17407_row6_col4\" class=\"data row6 col4\" ></td>\n",
       "      <td id=\"T_17407_row6_col5\" class=\"data row6 col5\" >Pb</td>\n",
       "      <td id=\"T_17407_row6_col6\" class=\"data row6 col6\" >Pb</td>\n",
       "      <td id=\"T_17407_row6_col7\" class=\"data row6 col7\" >Pb</td>\n",
       "    </tr>\n",
       "    <tr>\n",
       "      <th id=\"T_17407_level0_row7\" class=\"row_heading level0 row7\" >7</th>\n",
       "      <td id=\"T_17407_row7_col0\" class=\"data row7 col0\" >Rb</td>\n",
       "      <td id=\"T_17407_row7_col1\" class=\"data row7 col1\" >Nb</td>\n",
       "      <td id=\"T_17407_row7_col2\" class=\"data row7 col2\" >Bb</td>\n",
       "      <td id=\"T_17407_row7_col3\" class=\"data row7 col3\" ></td>\n",
       "      <td id=\"T_17407_row7_col4\" class=\"data row7 col4\" >Kb</td>\n",
       "      <td id=\"T_17407_row7_col5\" class=\"data row7 col5\" ></td>\n",
       "      <td id=\"T_17407_row7_col6\" class=\"data row7 col6\" >Nb</td>\n",
       "      <td id=\"T_17407_row7_col7\" class=\"data row7 col7\" >Rb</td>\n",
       "    </tr>\n",
       "  </tbody>\n",
       "</table>\n"
      ],
      "text/plain": [
       "<pandas.io.formats.style.Styler at 0x1fb37b724f0>"
      ]
     },
     "metadata": {},
     "output_type": "display_data"
    }
   ],
   "source": [
    "obs = game_obs()\n",
    "obs.place_pieces()\n",
    "obs.compute_legal_moves()\n",
    "obs.move_piece((6, 4), (4, 4))\n",
    "obs.move_piece((1, 4), (3, 4))\n",
    "obs.move_piece((7, 3), (3, 7))\n",
    "obs.move_piece((0, 1), (2, 2))\n",
    "obs.move_piece((7, 5), (4, 2))\n",
    "obs.move_piece((0, 6), (2, 5))\n",
    "obs.display_board()\n",
    "obs.move_piece((3, 7), (1, 5))\n",
    "obs.display_board()"
   ]
  },
  {
   "cell_type": "markdown",
   "metadata": {},
   "source": [
    "<span style='color:blue'>Sin embargo todavía hay algunos **bugs** que producen partidas inválidas... `#fixing_it`"
   ]
  },
  {
   "cell_type": "code",
   "execution_count": 37,
   "metadata": {},
   "outputs": [
    {
     "name": "stdout",
     "output_type": "stream",
     "text": [
      "Movimiento 3:\n"
     ]
    },
    {
     "data": {
      "text/html": [
       "<style type=\"text/css\">\n",
       "#T_afc14 * {\n",
       "  background-color: beige;\n",
       "  border-color: black;\n",
       "  border-width: 1px;\n",
       "  border-style: solid;\n",
       "  width: 30px;\n",
       "  text-align: center;\n",
       "}\n",
       "#T_afc14 th {\n",
       "  background-color: #ffe3a9;\n",
       "}\n",
       "#T_afc14_row0_col0, #T_afc14_row0_col1, #T_afc14_row0_col2, #T_afc14_row0_col3, #T_afc14_row0_col4, #T_afc14_row0_col5, #T_afc14_row0_col6, #T_afc14_row0_col7, #T_afc14_row1_col0, #T_afc14_row1_col1, #T_afc14_row1_col2, #T_afc14_row1_col3, #T_afc14_row1_col4, #T_afc14_row1_col5, #T_afc14_row1_col6, #T_afc14_row2_col7 {\n",
       "  color: black;\n",
       "  background-color: #ffadad;\n",
       "}\n",
       "#T_afc14_row1_col7, #T_afc14_row2_col0, #T_afc14_row2_col1, #T_afc14_row2_col2, #T_afc14_row2_col3, #T_afc14_row2_col4, #T_afc14_row2_col5, #T_afc14_row2_col6, #T_afc14_row3_col0, #T_afc14_row3_col1, #T_afc14_row3_col2, #T_afc14_row3_col3, #T_afc14_row3_col4, #T_afc14_row3_col5, #T_afc14_row3_col6, #T_afc14_row3_col7, #T_afc14_row4_col1, #T_afc14_row4_col3, #T_afc14_row4_col4, #T_afc14_row4_col5, #T_afc14_row4_col6, #T_afc14_row4_col7, #T_afc14_row5_col0, #T_afc14_row5_col1, #T_afc14_row5_col2, #T_afc14_row5_col3, #T_afc14_row5_col4, #T_afc14_row5_col5, #T_afc14_row5_col6, #T_afc14_row5_col7, #T_afc14_row6_col2, #T_afc14_row7_col3 {\n",
       "  color: beige;\n",
       "  background-color: beige;\n",
       "}\n",
       "#T_afc14_row4_col0, #T_afc14_row4_col2, #T_afc14_row6_col0, #T_afc14_row6_col1, #T_afc14_row6_col3, #T_afc14_row6_col4, #T_afc14_row6_col5, #T_afc14_row6_col6, #T_afc14_row6_col7, #T_afc14_row7_col0, #T_afc14_row7_col1, #T_afc14_row7_col2, #T_afc14_row7_col4, #T_afc14_row7_col5, #T_afc14_row7_col6, #T_afc14_row7_col7 {\n",
       "  color: black;\n",
       "  background-color: #ade9ff;\n",
       "}\n",
       "</style>\n",
       "<table id=\"T_afc14\">\n",
       "  <thead>\n",
       "    <tr>\n",
       "      <th class=\"blank level0\" >&nbsp;</th>\n",
       "      <th id=\"T_afc14_level0_col0\" class=\"col_heading level0 col0\" >0</th>\n",
       "      <th id=\"T_afc14_level0_col1\" class=\"col_heading level0 col1\" >1</th>\n",
       "      <th id=\"T_afc14_level0_col2\" class=\"col_heading level0 col2\" >2</th>\n",
       "      <th id=\"T_afc14_level0_col3\" class=\"col_heading level0 col3\" >3</th>\n",
       "      <th id=\"T_afc14_level0_col4\" class=\"col_heading level0 col4\" >4</th>\n",
       "      <th id=\"T_afc14_level0_col5\" class=\"col_heading level0 col5\" >5</th>\n",
       "      <th id=\"T_afc14_level0_col6\" class=\"col_heading level0 col6\" >6</th>\n",
       "      <th id=\"T_afc14_level0_col7\" class=\"col_heading level0 col7\" >7</th>\n",
       "    </tr>\n",
       "  </thead>\n",
       "  <tbody>\n",
       "    <tr>\n",
       "      <th id=\"T_afc14_level0_row0\" class=\"row_heading level0 row0\" >0</th>\n",
       "      <td id=\"T_afc14_row0_col0\" class=\"data row0 col0\" >Rr</td>\n",
       "      <td id=\"T_afc14_row0_col1\" class=\"data row0 col1\" >Nr</td>\n",
       "      <td id=\"T_afc14_row0_col2\" class=\"data row0 col2\" >Br</td>\n",
       "      <td id=\"T_afc14_row0_col3\" class=\"data row0 col3\" >Qr</td>\n",
       "      <td id=\"T_afc14_row0_col4\" class=\"data row0 col4\" >Kr</td>\n",
       "      <td id=\"T_afc14_row0_col5\" class=\"data row0 col5\" >Br</td>\n",
       "      <td id=\"T_afc14_row0_col6\" class=\"data row0 col6\" >Nr</td>\n",
       "      <td id=\"T_afc14_row0_col7\" class=\"data row0 col7\" >Rr</td>\n",
       "    </tr>\n",
       "    <tr>\n",
       "      <th id=\"T_afc14_level0_row1\" class=\"row_heading level0 row1\" >1</th>\n",
       "      <td id=\"T_afc14_row1_col0\" class=\"data row1 col0\" >Pr</td>\n",
       "      <td id=\"T_afc14_row1_col1\" class=\"data row1 col1\" >Pr</td>\n",
       "      <td id=\"T_afc14_row1_col2\" class=\"data row1 col2\" >Pr</td>\n",
       "      <td id=\"T_afc14_row1_col3\" class=\"data row1 col3\" >Pr</td>\n",
       "      <td id=\"T_afc14_row1_col4\" class=\"data row1 col4\" >Pr</td>\n",
       "      <td id=\"T_afc14_row1_col5\" class=\"data row1 col5\" >Pr</td>\n",
       "      <td id=\"T_afc14_row1_col6\" class=\"data row1 col6\" >Pr</td>\n",
       "      <td id=\"T_afc14_row1_col7\" class=\"data row1 col7\" ></td>\n",
       "    </tr>\n",
       "    <tr>\n",
       "      <th id=\"T_afc14_level0_row2\" class=\"row_heading level0 row2\" >2</th>\n",
       "      <td id=\"T_afc14_row2_col0\" class=\"data row2 col0\" ></td>\n",
       "      <td id=\"T_afc14_row2_col1\" class=\"data row2 col1\" ></td>\n",
       "      <td id=\"T_afc14_row2_col2\" class=\"data row2 col2\" ></td>\n",
       "      <td id=\"T_afc14_row2_col3\" class=\"data row2 col3\" ></td>\n",
       "      <td id=\"T_afc14_row2_col4\" class=\"data row2 col4\" ></td>\n",
       "      <td id=\"T_afc14_row2_col5\" class=\"data row2 col5\" ></td>\n",
       "      <td id=\"T_afc14_row2_col6\" class=\"data row2 col6\" ></td>\n",
       "      <td id=\"T_afc14_row2_col7\" class=\"data row2 col7\" >Pr</td>\n",
       "    </tr>\n",
       "    <tr>\n",
       "      <th id=\"T_afc14_level0_row3\" class=\"row_heading level0 row3\" >3</th>\n",
       "      <td id=\"T_afc14_row3_col0\" class=\"data row3 col0\" ></td>\n",
       "      <td id=\"T_afc14_row3_col1\" class=\"data row3 col1\" ></td>\n",
       "      <td id=\"T_afc14_row3_col2\" class=\"data row3 col2\" ></td>\n",
       "      <td id=\"T_afc14_row3_col3\" class=\"data row3 col3\" ></td>\n",
       "      <td id=\"T_afc14_row3_col4\" class=\"data row3 col4\" ></td>\n",
       "      <td id=\"T_afc14_row3_col5\" class=\"data row3 col5\" ></td>\n",
       "      <td id=\"T_afc14_row3_col6\" class=\"data row3 col6\" ></td>\n",
       "      <td id=\"T_afc14_row3_col7\" class=\"data row3 col7\" ></td>\n",
       "    </tr>\n",
       "    <tr>\n",
       "      <th id=\"T_afc14_level0_row4\" class=\"row_heading level0 row4\" >4</th>\n",
       "      <td id=\"T_afc14_row4_col0\" class=\"data row4 col0\" >Qb</td>\n",
       "      <td id=\"T_afc14_row4_col1\" class=\"data row4 col1\" ></td>\n",
       "      <td id=\"T_afc14_row4_col2\" class=\"data row4 col2\" >Pb</td>\n",
       "      <td id=\"T_afc14_row4_col3\" class=\"data row4 col3\" ></td>\n",
       "      <td id=\"T_afc14_row4_col4\" class=\"data row4 col4\" ></td>\n",
       "      <td id=\"T_afc14_row4_col5\" class=\"data row4 col5\" ></td>\n",
       "      <td id=\"T_afc14_row4_col6\" class=\"data row4 col6\" ></td>\n",
       "      <td id=\"T_afc14_row4_col7\" class=\"data row4 col7\" ></td>\n",
       "    </tr>\n",
       "    <tr>\n",
       "      <th id=\"T_afc14_level0_row5\" class=\"row_heading level0 row5\" >5</th>\n",
       "      <td id=\"T_afc14_row5_col0\" class=\"data row5 col0\" ></td>\n",
       "      <td id=\"T_afc14_row5_col1\" class=\"data row5 col1\" ></td>\n",
       "      <td id=\"T_afc14_row5_col2\" class=\"data row5 col2\" ></td>\n",
       "      <td id=\"T_afc14_row5_col3\" class=\"data row5 col3\" ></td>\n",
       "      <td id=\"T_afc14_row5_col4\" class=\"data row5 col4\" ></td>\n",
       "      <td id=\"T_afc14_row5_col5\" class=\"data row5 col5\" ></td>\n",
       "      <td id=\"T_afc14_row5_col6\" class=\"data row5 col6\" ></td>\n",
       "      <td id=\"T_afc14_row5_col7\" class=\"data row5 col7\" ></td>\n",
       "    </tr>\n",
       "    <tr>\n",
       "      <th id=\"T_afc14_level0_row6\" class=\"row_heading level0 row6\" >6</th>\n",
       "      <td id=\"T_afc14_row6_col0\" class=\"data row6 col0\" >Pb</td>\n",
       "      <td id=\"T_afc14_row6_col1\" class=\"data row6 col1\" >Pb</td>\n",
       "      <td id=\"T_afc14_row6_col2\" class=\"data row6 col2\" ></td>\n",
       "      <td id=\"T_afc14_row6_col3\" class=\"data row6 col3\" >Pb</td>\n",
       "      <td id=\"T_afc14_row6_col4\" class=\"data row6 col4\" >Pb</td>\n",
       "      <td id=\"T_afc14_row6_col5\" class=\"data row6 col5\" >Pb</td>\n",
       "      <td id=\"T_afc14_row6_col6\" class=\"data row6 col6\" >Pb</td>\n",
       "      <td id=\"T_afc14_row6_col7\" class=\"data row6 col7\" >Pb</td>\n",
       "    </tr>\n",
       "    <tr>\n",
       "      <th id=\"T_afc14_level0_row7\" class=\"row_heading level0 row7\" >7</th>\n",
       "      <td id=\"T_afc14_row7_col0\" class=\"data row7 col0\" >Rb</td>\n",
       "      <td id=\"T_afc14_row7_col1\" class=\"data row7 col1\" >Nb</td>\n",
       "      <td id=\"T_afc14_row7_col2\" class=\"data row7 col2\" >Bb</td>\n",
       "      <td id=\"T_afc14_row7_col3\" class=\"data row7 col3\" ></td>\n",
       "      <td id=\"T_afc14_row7_col4\" class=\"data row7 col4\" >Kb</td>\n",
       "      <td id=\"T_afc14_row7_col5\" class=\"data row7 col5\" >Bb</td>\n",
       "      <td id=\"T_afc14_row7_col6\" class=\"data row7 col6\" >Nb</td>\n",
       "      <td id=\"T_afc14_row7_col7\" class=\"data row7 col7\" >Rb</td>\n",
       "    </tr>\n",
       "  </tbody>\n",
       "</table>\n"
      ],
      "text/plain": [
       "<pandas.io.formats.style.Styler at 0x1fb37b49c40>"
      ]
     },
     "metadata": {},
     "output_type": "display_data"
    },
    {
     "name": "stdout",
     "output_type": "stream",
     "text": [
      "Movimiento 4 (bug):\n",
      "Check!\n"
     ]
    },
    {
     "data": {
      "text/html": [
       "<style type=\"text/css\">\n",
       "#T_69ecd * {\n",
       "  background-color: beige;\n",
       "  border-color: black;\n",
       "  border-width: 1px;\n",
       "  border-style: solid;\n",
       "  width: 30px;\n",
       "  text-align: center;\n",
       "}\n",
       "#T_69ecd th {\n",
       "  background-color: #ffe3a9;\n",
       "}\n",
       "#T_69ecd_row0_col0, #T_69ecd_row0_col1, #T_69ecd_row0_col2, #T_69ecd_row0_col3, #T_69ecd_row0_col4, #T_69ecd_row0_col5, #T_69ecd_row0_col6, #T_69ecd_row0_col7, #T_69ecd_row1_col0, #T_69ecd_row1_col1, #T_69ecd_row1_col2, #T_69ecd_row1_col4, #T_69ecd_row1_col5, #T_69ecd_row1_col6, #T_69ecd_row2_col3, #T_69ecd_row2_col7 {\n",
       "  color: black;\n",
       "  background-color: #ffadad;\n",
       "}\n",
       "#T_69ecd_row1_col3, #T_69ecd_row1_col7, #T_69ecd_row2_col0, #T_69ecd_row2_col1, #T_69ecd_row2_col2, #T_69ecd_row2_col4, #T_69ecd_row2_col5, #T_69ecd_row2_col6, #T_69ecd_row3_col0, #T_69ecd_row3_col1, #T_69ecd_row3_col2, #T_69ecd_row3_col3, #T_69ecd_row3_col4, #T_69ecd_row3_col5, #T_69ecd_row3_col6, #T_69ecd_row3_col7, #T_69ecd_row4_col1, #T_69ecd_row4_col3, #T_69ecd_row4_col4, #T_69ecd_row4_col5, #T_69ecd_row4_col6, #T_69ecd_row4_col7, #T_69ecd_row5_col0, #T_69ecd_row5_col1, #T_69ecd_row5_col2, #T_69ecd_row5_col3, #T_69ecd_row5_col4, #T_69ecd_row5_col5, #T_69ecd_row5_col6, #T_69ecd_row5_col7, #T_69ecd_row6_col2, #T_69ecd_row7_col3 {\n",
       "  color: beige;\n",
       "  background-color: beige;\n",
       "}\n",
       "#T_69ecd_row4_col0, #T_69ecd_row4_col2, #T_69ecd_row6_col0, #T_69ecd_row6_col1, #T_69ecd_row6_col3, #T_69ecd_row6_col4, #T_69ecd_row6_col5, #T_69ecd_row6_col6, #T_69ecd_row6_col7, #T_69ecd_row7_col0, #T_69ecd_row7_col1, #T_69ecd_row7_col2, #T_69ecd_row7_col4, #T_69ecd_row7_col5, #T_69ecd_row7_col6, #T_69ecd_row7_col7 {\n",
       "  color: black;\n",
       "  background-color: #ade9ff;\n",
       "}\n",
       "</style>\n",
       "<table id=\"T_69ecd\">\n",
       "  <thead>\n",
       "    <tr>\n",
       "      <th class=\"blank level0\" >&nbsp;</th>\n",
       "      <th id=\"T_69ecd_level0_col0\" class=\"col_heading level0 col0\" >0</th>\n",
       "      <th id=\"T_69ecd_level0_col1\" class=\"col_heading level0 col1\" >1</th>\n",
       "      <th id=\"T_69ecd_level0_col2\" class=\"col_heading level0 col2\" >2</th>\n",
       "      <th id=\"T_69ecd_level0_col3\" class=\"col_heading level0 col3\" >3</th>\n",
       "      <th id=\"T_69ecd_level0_col4\" class=\"col_heading level0 col4\" >4</th>\n",
       "      <th id=\"T_69ecd_level0_col5\" class=\"col_heading level0 col5\" >5</th>\n",
       "      <th id=\"T_69ecd_level0_col6\" class=\"col_heading level0 col6\" >6</th>\n",
       "      <th id=\"T_69ecd_level0_col7\" class=\"col_heading level0 col7\" >7</th>\n",
       "    </tr>\n",
       "  </thead>\n",
       "  <tbody>\n",
       "    <tr>\n",
       "      <th id=\"T_69ecd_level0_row0\" class=\"row_heading level0 row0\" >0</th>\n",
       "      <td id=\"T_69ecd_row0_col0\" class=\"data row0 col0\" >Rr</td>\n",
       "      <td id=\"T_69ecd_row0_col1\" class=\"data row0 col1\" >Nr</td>\n",
       "      <td id=\"T_69ecd_row0_col2\" class=\"data row0 col2\" >Br</td>\n",
       "      <td id=\"T_69ecd_row0_col3\" class=\"data row0 col3\" >Qr</td>\n",
       "      <td id=\"T_69ecd_row0_col4\" class=\"data row0 col4\" >Kr</td>\n",
       "      <td id=\"T_69ecd_row0_col5\" class=\"data row0 col5\" >Br</td>\n",
       "      <td id=\"T_69ecd_row0_col6\" class=\"data row0 col6\" >Nr</td>\n",
       "      <td id=\"T_69ecd_row0_col7\" class=\"data row0 col7\" >Rr</td>\n",
       "    </tr>\n",
       "    <tr>\n",
       "      <th id=\"T_69ecd_level0_row1\" class=\"row_heading level0 row1\" >1</th>\n",
       "      <td id=\"T_69ecd_row1_col0\" class=\"data row1 col0\" >Pr</td>\n",
       "      <td id=\"T_69ecd_row1_col1\" class=\"data row1 col1\" >Pr</td>\n",
       "      <td id=\"T_69ecd_row1_col2\" class=\"data row1 col2\" >Pr</td>\n",
       "      <td id=\"T_69ecd_row1_col3\" class=\"data row1 col3\" ></td>\n",
       "      <td id=\"T_69ecd_row1_col4\" class=\"data row1 col4\" >Pr</td>\n",
       "      <td id=\"T_69ecd_row1_col5\" class=\"data row1 col5\" >Pr</td>\n",
       "      <td id=\"T_69ecd_row1_col6\" class=\"data row1 col6\" >Pr</td>\n",
       "      <td id=\"T_69ecd_row1_col7\" class=\"data row1 col7\" ></td>\n",
       "    </tr>\n",
       "    <tr>\n",
       "      <th id=\"T_69ecd_level0_row2\" class=\"row_heading level0 row2\" >2</th>\n",
       "      <td id=\"T_69ecd_row2_col0\" class=\"data row2 col0\" ></td>\n",
       "      <td id=\"T_69ecd_row2_col1\" class=\"data row2 col1\" ></td>\n",
       "      <td id=\"T_69ecd_row2_col2\" class=\"data row2 col2\" ></td>\n",
       "      <td id=\"T_69ecd_row2_col3\" class=\"data row2 col3\" >Pr</td>\n",
       "      <td id=\"T_69ecd_row2_col4\" class=\"data row2 col4\" ></td>\n",
       "      <td id=\"T_69ecd_row2_col5\" class=\"data row2 col5\" ></td>\n",
       "      <td id=\"T_69ecd_row2_col6\" class=\"data row2 col6\" ></td>\n",
       "      <td id=\"T_69ecd_row2_col7\" class=\"data row2 col7\" >Pr</td>\n",
       "    </tr>\n",
       "    <tr>\n",
       "      <th id=\"T_69ecd_level0_row3\" class=\"row_heading level0 row3\" >3</th>\n",
       "      <td id=\"T_69ecd_row3_col0\" class=\"data row3 col0\" ></td>\n",
       "      <td id=\"T_69ecd_row3_col1\" class=\"data row3 col1\" ></td>\n",
       "      <td id=\"T_69ecd_row3_col2\" class=\"data row3 col2\" ></td>\n",
       "      <td id=\"T_69ecd_row3_col3\" class=\"data row3 col3\" ></td>\n",
       "      <td id=\"T_69ecd_row3_col4\" class=\"data row3 col4\" ></td>\n",
       "      <td id=\"T_69ecd_row3_col5\" class=\"data row3 col5\" ></td>\n",
       "      <td id=\"T_69ecd_row3_col6\" class=\"data row3 col6\" ></td>\n",
       "      <td id=\"T_69ecd_row3_col7\" class=\"data row3 col7\" ></td>\n",
       "    </tr>\n",
       "    <tr>\n",
       "      <th id=\"T_69ecd_level0_row4\" class=\"row_heading level0 row4\" >4</th>\n",
       "      <td id=\"T_69ecd_row4_col0\" class=\"data row4 col0\" >Qb</td>\n",
       "      <td id=\"T_69ecd_row4_col1\" class=\"data row4 col1\" ></td>\n",
       "      <td id=\"T_69ecd_row4_col2\" class=\"data row4 col2\" >Pb</td>\n",
       "      <td id=\"T_69ecd_row4_col3\" class=\"data row4 col3\" ></td>\n",
       "      <td id=\"T_69ecd_row4_col4\" class=\"data row4 col4\" ></td>\n",
       "      <td id=\"T_69ecd_row4_col5\" class=\"data row4 col5\" ></td>\n",
       "      <td id=\"T_69ecd_row4_col6\" class=\"data row4 col6\" ></td>\n",
       "      <td id=\"T_69ecd_row4_col7\" class=\"data row4 col7\" ></td>\n",
       "    </tr>\n",
       "    <tr>\n",
       "      <th id=\"T_69ecd_level0_row5\" class=\"row_heading level0 row5\" >5</th>\n",
       "      <td id=\"T_69ecd_row5_col0\" class=\"data row5 col0\" ></td>\n",
       "      <td id=\"T_69ecd_row5_col1\" class=\"data row5 col1\" ></td>\n",
       "      <td id=\"T_69ecd_row5_col2\" class=\"data row5 col2\" ></td>\n",
       "      <td id=\"T_69ecd_row5_col3\" class=\"data row5 col3\" ></td>\n",
       "      <td id=\"T_69ecd_row5_col4\" class=\"data row5 col4\" ></td>\n",
       "      <td id=\"T_69ecd_row5_col5\" class=\"data row5 col5\" ></td>\n",
       "      <td id=\"T_69ecd_row5_col6\" class=\"data row5 col6\" ></td>\n",
       "      <td id=\"T_69ecd_row5_col7\" class=\"data row5 col7\" ></td>\n",
       "    </tr>\n",
       "    <tr>\n",
       "      <th id=\"T_69ecd_level0_row6\" class=\"row_heading level0 row6\" >6</th>\n",
       "      <td id=\"T_69ecd_row6_col0\" class=\"data row6 col0\" >Pb</td>\n",
       "      <td id=\"T_69ecd_row6_col1\" class=\"data row6 col1\" >Pb</td>\n",
       "      <td id=\"T_69ecd_row6_col2\" class=\"data row6 col2\" ></td>\n",
       "      <td id=\"T_69ecd_row6_col3\" class=\"data row6 col3\" >Pb</td>\n",
       "      <td id=\"T_69ecd_row6_col4\" class=\"data row6 col4\" >Pb</td>\n",
       "      <td id=\"T_69ecd_row6_col5\" class=\"data row6 col5\" >Pb</td>\n",
       "      <td id=\"T_69ecd_row6_col6\" class=\"data row6 col6\" >Pb</td>\n",
       "      <td id=\"T_69ecd_row6_col7\" class=\"data row6 col7\" >Pb</td>\n",
       "    </tr>\n",
       "    <tr>\n",
       "      <th id=\"T_69ecd_level0_row7\" class=\"row_heading level0 row7\" >7</th>\n",
       "      <td id=\"T_69ecd_row7_col0\" class=\"data row7 col0\" >Rb</td>\n",
       "      <td id=\"T_69ecd_row7_col1\" class=\"data row7 col1\" >Nb</td>\n",
       "      <td id=\"T_69ecd_row7_col2\" class=\"data row7 col2\" >Bb</td>\n",
       "      <td id=\"T_69ecd_row7_col3\" class=\"data row7 col3\" ></td>\n",
       "      <td id=\"T_69ecd_row7_col4\" class=\"data row7 col4\" >Kb</td>\n",
       "      <td id=\"T_69ecd_row7_col5\" class=\"data row7 col5\" >Bb</td>\n",
       "      <td id=\"T_69ecd_row7_col6\" class=\"data row7 col6\" >Nb</td>\n",
       "      <td id=\"T_69ecd_row7_col7\" class=\"data row7 col7\" >Rb</td>\n",
       "    </tr>\n",
       "  </tbody>\n",
       "</table>\n"
      ],
      "text/plain": [
       "<pandas.io.formats.style.Styler at 0x1fb37b494c0>"
      ]
     },
     "metadata": {},
     "output_type": "display_data"
    }
   ],
   "source": [
    "obs = game_obs()\n",
    "obs.place_pieces()\n",
    "obs.compute_legal_moves()\n",
    "obs.move_piece((6, 2), (4, 2))\n",
    "obs.move_piece((1, 7), (2, 7))\n",
    "print('Movimiento 3:')\n",
    "obs.move_piece((7, 3), (4, 0))\n",
    "obs.display_board()\n",
    "print('Movimiento 4 (bug):')\n",
    "obs.move_piece((1, 3), (2, 3))\n",
    "obs.display_board()"
   ]
  },
  {
   "cell_type": "code",
   "execution_count": null,
   "metadata": {},
   "outputs": [],
   "source": []
  },
  {
   "cell_type": "code",
   "execution_count": null,
   "metadata": {},
   "outputs": [],
   "source": []
  }
 ],
 "metadata": {
  "kernelspec": {
   "display_name": "Python 3 (ipykernel)",
   "language": "python",
   "name": "python3"
  },
  "language_info": {
   "codemirror_mode": {
    "name": "ipython",
    "version": 3
   },
   "file_extension": ".py",
   "mimetype": "text/x-python",
   "name": "python",
   "nbconvert_exporter": "python",
   "pygments_lexer": "ipython3",
   "version": "3.9.7"
  }
 },
 "nbformat": 4,
 "nbformat_minor": 2
}
