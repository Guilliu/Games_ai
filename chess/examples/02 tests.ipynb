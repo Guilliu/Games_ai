{
 "cells": [
  {
   "cell_type": "markdown",
   "metadata": {},
   "source": [
    "<span style='color:blue'>El objetivo de este notebook es comprobar el correcto funcionamiento de nuestro ajedrez"
   ]
  },
  {
   "cell_type": "code",
   "execution_count": 1,
   "metadata": {},
   "outputs": [],
   "source": [
    "import pickle, time\n",
    "from modules3 import *"
   ]
  },
  {
   "cell_type": "markdown",
   "metadata": {},
   "source": [
    "<span style='color:blue'>La idea principal es comparar el número de partidas posibles tras n movimientos contra el consenso alcanzado según la mayoría de módulos homologados.<br>\n",
    "\n",
    "<span style='color:blue'>Estos recuentos de las partidas posibles se muestran en la siguiente tabla que se puede encontrar en la página de Wikipedia sobre el número de Shannon ($=10^{120}$, es una estimación de la complejidad del árbol de juego del ajedrez) en su versión original): https://en.wikipedia.org/wiki/Shannon_number\n",
    "<img src=\"shannon_table.PNG\" width=250/>"
   ]
  },
  {
   "cell_type": "markdown",
   "metadata": {},
   "source": [
    "<span style='color:blue'>Empezamos con `n = 1`, todo correcto"
   ]
  },
  {
   "cell_type": "code",
   "execution_count": 2,
   "metadata": {},
   "outputs": [
    {
     "name": "stdout",
     "output_type": "stream",
     "text": [
      "Total: 20\n",
      "Wall time: 19 ms\n"
     ]
    }
   ],
   "source": [
    "%%time\n",
    "\n",
    "obs = game_obs()\n",
    "obs.place_pieces()\n",
    "obs.compute_legal_moves()\n",
    "\n",
    "tablero0 = pickle.dumps(obs, -1)\n",
    "\n",
    "contador = 0\n",
    "for i in obs.pieces:\n",
    "    if obs.pieces[i].color == obs.turn:\n",
    "        for movement in obs.pieces[i].legal_moves:\n",
    "            contador +=1\n",
    "#             print('Contador: {}'.format(contador))\n",
    "            obs.pieces[i].move(obs, movement, False, False, False)\n",
    "#             obs.display_board()\n",
    "            obs = pickle.loads(tablero0)\n",
    "print('Total: {}'.format(contador))"
   ]
  },
  {
   "cell_type": "markdown",
   "metadata": {},
   "source": [
    "<span style='color:blue'>Con `n = 2` todo correcto"
   ]
  },
  {
   "cell_type": "code",
   "execution_count": 3,
   "metadata": {},
   "outputs": [
    {
     "name": "stdout",
     "output_type": "stream",
     "text": [
      "Total: 400\n",
      "Wall time: 329 ms\n"
     ]
    }
   ],
   "source": [
    "%%time\n",
    "\n",
    "obs = game_obs()\n",
    "obs.place_pieces()\n",
    "obs.compute_legal_moves()\n",
    "\n",
    "contador = 0\n",
    "\n",
    "tablero0 = pickle.dumps(obs, -1)\n",
    "for i0 in obs.pieces:\n",
    "    if obs.pieces[i0].color == obs.turn:\n",
    "        for movement in obs.pieces[i0].legal_moves:\n",
    "            obs.pieces[i0].move(obs, movement, False, False, False)\n",
    "            tablero1 = pickle.dumps(obs, -1)\n",
    "            for i1 in obs.pieces:\n",
    "                if obs.pieces[i1].color == obs.turn:\n",
    "                    for movement in obs.pieces[i1].legal_moves:\n",
    "                        contador +=1\n",
    "#                         print('Contador: {}'.format(contador))\n",
    "                        obs.pieces[i1].move(obs, movement, False, False, False)\n",
    "#                         obs.display_board()\n",
    "                        obs = pickle.loads(tablero1)\n",
    "            obs = pickle.loads(tablero0)\n",
    "print('Total: {}'.format(contador))"
   ]
  },
  {
   "cell_type": "markdown",
   "metadata": {},
   "source": [
    "<span style='color:blue'>Con `n = 3` todo correcto"
   ]
  },
  {
   "cell_type": "code",
   "execution_count": 4,
   "metadata": {
    "scrolled": true
   },
   "outputs": [
    {
     "name": "stdout",
     "output_type": "stream",
     "text": [
      "Total: 8902\n",
      "Wall time: 8.74 s\n"
     ]
    }
   ],
   "source": [
    "%%time\n",
    "\n",
    "obs = game_obs()\n",
    "obs.place_pieces()\n",
    "obs.compute_legal_moves()\n",
    "\n",
    "contador = 0\n",
    "\n",
    "hola = pd.DataFrame(columns=['time'])\n",
    "\n",
    "tablero0 = pickle.dumps(obs)\n",
    "for i0 in obs.pieces:\n",
    "    if obs.pieces[i0].color == obs.turn:\n",
    "        for movement in obs.pieces[i0].legal_moves:\n",
    "            obs.pieces[i0].move(obs, movement, False, False, False)\n",
    "            tablero1 = pickle.dumps(obs)\n",
    "            for i1 in obs.pieces:\n",
    "                if obs.pieces[i1].color == obs.turn:\n",
    "                    for movement in obs.pieces[i1].legal_moves:\n",
    "                        obs.pieces[i1].move(obs, movement, False, False, False)\n",
    "                        tablero2 = pickle.dumps(obs)\n",
    "                        for i2 in obs.pieces:\n",
    "                            if obs.pieces[i2].color == obs.turn:\n",
    "                                for movement in obs.pieces[i2].legal_moves:\n",
    "                                    contador += 1\n",
    "#                                     print('Contador: {}'.format(contador))\n",
    "                                    obs.pieces[i2].move(obs, movement, False, False, False)\n",
    "#                                     obs.display_board()\n",
    "                                    obs = pickle.loads(tablero2)\n",
    "                        obs = pickle.loads(tablero1)\n",
    "            obs = pickle.loads(tablero0)\n",
    "print('Total: {}'.format(contador))"
   ]
  },
  {
   "cell_type": "markdown",
   "metadata": {},
   "source": [
    "<span style='color:blue'>Con `n = 4` ya encontramos los primeros fallos... y encima el tiempo es muy alto...`#fixing_it`"
   ]
  },
  {
   "cell_type": "code",
   "execution_count": 5,
   "metadata": {
    "scrolled": true
   },
   "outputs": [
    {
     "name": "stdout",
     "output_type": "stream",
     "text": [
      "Total: 197884\n",
      "Wall time: 4min 12s\n"
     ]
    }
   ],
   "source": [
    "%%time\n",
    "obs = game_obs()\n",
    "obs.place_pieces()\n",
    "obs.compute_legal_moves()\n",
    "\n",
    "contador = 0\n",
    "\n",
    "tablero0 = pickle.dumps(obs)\n",
    "for i0 in obs.pieces:\n",
    "    if obs.pieces[i0].color == obs.turn:\n",
    "        for movement in obs.pieces[i0].legal_moves:\n",
    "            obs.pieces[i0].move(obs, movement, False, False, False)\n",
    "            tablero1 = pickle.dumps(obs)\n",
    "            for i1 in obs.pieces:\n",
    "                if obs.pieces[i1].color == obs.turn:\n",
    "                    for movement in obs.pieces[i1].legal_moves:\n",
    "                        obs.pieces[i1].move(obs, movement, False, False, False)\n",
    "                        tablero2 = pickle.dumps(obs)\n",
    "                        for i2 in obs.pieces:\n",
    "                            if obs.pieces[i2].color == obs.turn:\n",
    "                                for movement in obs.pieces[i2].legal_moves:\n",
    "                                    obs.pieces[i2].move(obs, movement, False, False, False)\n",
    "                                    tablero3 = pickle.dumps(obs)\n",
    "                                    for i3 in obs.pieces:\n",
    "                                        if obs.pieces[i3].color == obs.turn:\n",
    "                                            for movement in obs.pieces[i3].legal_moves:\n",
    "                                                contador +=1\n",
    "#                                                 print('Contador: {}'.format(contador))\n",
    "                                                obs.pieces[i3].move(obs, movement, False, False, False)\n",
    "#                                                 obs.display_board()\n",
    "                                                obs = pickle.loads(tablero3)\n",
    "                                    obs = pickle.loads(tablero2)\n",
    "                        obs = pickle.loads(tablero1)\n",
    "            obs = pickle.loads(tablero0)\n",
    "print('Total: {}'.format(contador))"
   ]
  },
  {
   "cell_type": "code",
   "execution_count": null,
   "metadata": {},
   "outputs": [],
   "source": []
  },
  {
   "cell_type": "code",
   "execution_count": null,
   "metadata": {},
   "outputs": [],
   "source": []
  }
 ],
 "metadata": {
  "kernelspec": {
   "display_name": "Python 3 (ipykernel)",
   "language": "python",
   "name": "python3"
  },
  "language_info": {
   "codemirror_mode": {
    "name": "ipython",
    "version": 3
   },
   "file_extension": ".py",
   "mimetype": "text/x-python",
   "name": "python",
   "nbconvert_exporter": "python",
   "pygments_lexer": "ipython3",
   "version": "3.9.7"
  }
 },
 "nbformat": 4,
 "nbformat_minor": 4
}
